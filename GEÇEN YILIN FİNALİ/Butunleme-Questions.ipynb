{
 "cells": [
  {
   "cell_type": "markdown",
   "metadata": {},
   "source": [
    "Q.1. Given two equal-length strings, find the number of unmatched characters in the corresponding indices using the followng function. If the strings are not of equal-length, then an exception should be thrown.\n",
    "(Verilen aynı uzunluklu iki stringin karşılıklı olarak aynı indisteki karakterlerine bakarak, aynı indiste eşit olmayan karakter sayısını bulunuz. Verilen stringler aynı uzunlukta değil ise exception fırlatılmalı.)\n",
    "[10 pts]"
   ]
  },
  {
   "cell_type": "code",
   "execution_count": 1,
   "metadata": {},
   "outputs": [],
   "source": [
    "#A.1 here:\n",
    "def soruBir(stringBir, stringIki):\n",
    "    \n",
    "    \n",
    "    \n"
   ]
  },
  {
   "cell_type": "code",
   "execution_count": 4,
   "metadata": {},
   "outputs": [
    {
     "data": {
      "text/plain": [
       "4"
      ]
     },
     "execution_count": 4,
     "metadata": {},
     "output_type": "execute_result"
    }
   ],
   "source": [
    "soruBir(\"marmara\",\"makarna\")"
   ]
  },
  {
   "cell_type": "markdown",
   "metadata": {},
   "source": [
    "Q.2. Given two strings implement a function that returns true if one string is the palindrom of the other.\n",
    "(Verilen iki stringden biri diğerinin karakterlerinin ters sıralanmasıyla oluşuyorsa True yoksa False döndüren bir fonksiyon yazınız.)\n",
    "[10 pts]"
   ]
  },
  {
   "cell_type": "code",
   "execution_count": 5,
   "metadata": {},
   "outputs": [],
   "source": [
    "#Q.2 here:\n",
    "def soruİki(stringBir,stringIki):\n"
   ]
  },
  {
   "cell_type": "code",
   "execution_count": 6,
   "metadata": {},
   "outputs": [
    {
     "name": "stdout",
     "output_type": "stream",
     "text": [
      "True\n"
     ]
    }
   ],
   "source": [
    "print(soruİki(\"halis\",\"silah\"))"
   ]
  },
  {
   "cell_type": "markdown",
   "metadata": {},
   "source": [
    "Q.3. Implement a function which accepts a list and removes all duplicated elements in that list and returns the same list.\n",
    "(Verilen bir listedeki tüm tekrarlanan elemanları silen ve bu listeyi döndüren bir fonksiyon yazınız.)\n",
    "[15 pts]"
   ]
  },
  {
   "cell_type": "code",
   "execution_count": 9,
   "metadata": {},
   "outputs": [],
   "source": [
    "#Q.3 here:\n",
    "def soruUc(my_list):\n",
    "    \n",
    "    "
   ]
  },
  {
   "cell_type": "code",
   "execution_count": 8,
   "metadata": {},
   "outputs": [
    {
     "name": "stdout",
     "output_type": "stream",
     "text": [
      "[3, 4, 'b', 2]\n"
     ]
    }
   ],
   "source": [
    "myList = [1,3,4,'a',1,'b','a',2]\n",
    "soruUc(myList)\n",
    "print(myList)"
   ]
  },
  {
   "cell_type": "markdown",
   "metadata": {},
   "source": [
    "Q.4. Create a Car class and a vehicle class. Note that a car is also a vehicle. Your class design should satisfy the following requirements:\n",
    "    Vehicle class should be able to keep track of number of vehicle objects [8 pts]\n",
    "    Each vehicle object should have 2 attributes that is common among all vehicles (horse power and color) [4 pts]\n",
    "    Each car object should have 2 attributes that is common among all cars (brand name and model) [4 pts]\n",
    "    When a car object is printed using print() function, it should present its basic properties in a nice way [4 pts]\n",
    "    A car should implement a function to change its color [4 pts]\n",
    "    \n",
    "   Finally, create a list of cars and call the two newly implemented methods of each car.[10 pts]\n",
    "\n",
    "[34 pts]"
   ]
  },
  {
   "cell_type": "code",
   "execution_count": 10,
   "metadata": {
    "collapsed": true
   },
   "outputs": [],
   "source": [
    "#Q.4 here:\n",
    "\n",
    "\n"
   ]
  },
  {
   "cell_type": "markdown",
   "metadata": {},
   "source": [
    "Q.5. Give one example for each of the following built-in functions: a)map, b)filter, c)reduce and d)zip functions; and for each example, implement the same functionality without using built-ins. [8*4 = 32pts]"
   ]
  },
  {
   "cell_type": "code",
   "execution_count": 11,
   "metadata": {
    "collapsed": true
   },
   "outputs": [],
   "source": [
    "#Q.5.a here:\n"
   ]
  },
  {
   "cell_type": "code",
   "execution_count": 12,
   "metadata": {
    "collapsed": true
   },
   "outputs": [],
   "source": [
    "#Q.5.b here:\n"
   ]
  },
  {
   "cell_type": "code",
   "execution_count": 14,
   "metadata": {
    "collapsed": true
   },
   "outputs": [],
   "source": [
    "#Q.5.c here:\n"
   ]
  },
  {
   "cell_type": "code",
   "execution_count": null,
   "metadata": {
    "collapsed": true
   },
   "outputs": [],
   "source": [
    "#Q.5.d here:\n"
   ]
  }
 ],
 "metadata": {
  "kernelspec": {
   "display_name": "Python 3",
   "language": "python",
   "name": "python3"
  },
  "language_info": {
   "codemirror_mode": {
    "name": "ipython",
    "version": 3
   },
   "file_extension": ".py",
   "mimetype": "text/x-python",
   "name": "python",
   "nbconvert_exporter": "python",
   "pygments_lexer": "ipython3",
   "version": "3.6.3"
  }
 },
 "nbformat": 4,
 "nbformat_minor": 2
}
