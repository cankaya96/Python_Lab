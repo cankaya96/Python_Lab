{
 "cells": [
  {
   "cell_type": "markdown",
   "metadata": {},
   "source": [
    "# FINAL EXAM"
   ]
  },
  {
   "cell_type": "markdown",
   "metadata": {},
   "source": [
    "Question 1 Comprehensions\n",
    "(SORU \"COMPREHENSION\" YAZMAK İLE İLGİLİDİR!)\n",
    "10 + 10 + 5 + 5= 30 points"
   ]
  },
  {
   "cell_type": "markdown",
   "metadata": {},
   "source": [
    "a) Flatten the given nested list using a single \"list comprehension\":\n",
    "(Aşağıdaki gibi en fazla 2 seviye derinlikte verilen iç içe bir listeden tek seviye bir liste oluşturacak kodu tek satırlık liste kısaltıcı ifadeleriyle yazınız)"
   ]
  },
  {
   "cell_type": "code",
   "execution_count": 1,
   "metadata": {},
   "outputs": [],
   "source": [
    "my_list = [[1,2,3],[4,5,6],[7,8]] # you should create [1, 2, 3, 4, 5, 6, 7, 8]\n",
    "# BU LİSTE ÖRNEKTİR, KODUNUZ my_list DEĞİŞKENİNİN ALDIĞI BÜTÜN 2 SEVİYELİ LİSTELER İÇİN ÇALIŞMALIDIR"
   ]
  },
  {
   "cell_type": "code",
   "execution_count": 2,
   "metadata": {},
   "outputs": [
    {
     "data": {
      "text/plain": [
       "[1, 2, 3, 4, 5, 6, 7, 8]"
      ]
     },
     "execution_count": 2,
     "metadata": {},
     "output_type": "execute_result"
    }
   ],
   "source": [
    "listem=[a for b in my_list for a in b]\n",
    "listem"
   ]
  },
  {
   "cell_type": "markdown",
   "metadata": {},
   "source": [
    "b)Create a list comprised of strings \"Even\" and \"Odd\" for the numbers between 50 and 70."
   ]
  },
  {
   "cell_type": "code",
   "execution_count": 7,
   "metadata": {},
   "outputs": [
    {
     "name": "stdout",
     "output_type": "stream",
     "text": [
      "[50, 52, 54, 56, 58, 60, 62, 64, 66, 68]\n",
      "[51, 53, 55, 57, 59, 61, 63, 65, 67, 69]\n"
     ]
    }
   ],
   "source": [
    "Even=list(filter(lambda x: x%2==0, range(50,70)))\n",
    "print(Even)\n",
    "\n",
    "Odd=list(filter(lambda x:x%2!=0,range(50,70)))\n",
    "\n",
    "print(Odd)"
   ]
  },
  {
   "cell_type": "markdown",
   "metadata": {},
   "source": [
    "c) Given the following list L1, create a new list which is comprised of the first character in upper case of each word. "
   ]
  },
  {
   "cell_type": "code",
   "execution_count": 8,
   "metadata": {},
   "outputs": [],
   "source": [
    "L1= [\"ali\", \"ayşe\",\"nihan\",\"demet\",\"selim\"]"
   ]
  },
  {
   "cell_type": "code",
   "execution_count": 9,
   "metadata": {},
   "outputs": [
    {
     "data": {
      "text/plain": [
       "['Ali', 'Ayşe', 'Nihan', 'Demet', 'Selim']"
      ]
     },
     "execution_count": 9,
     "metadata": {},
     "output_type": "execute_result"
    }
   ],
   "source": [
    "l2=list(x[:1].upper()+x[1:] for x in L1)\n",
    "l2"
   ]
  },
  {
   "cell_type": "markdown",
   "metadata": {
    "collapsed": true
   },
   "source": [
    "d) Write a comprehension statement to create a dictionary where the keys are numbers between 1 and 15 (both included) and the values are square of keys.\n",
    "( Keyleri 1 ile 15 arası sınırlar dahil sayılar; valuelar ise bu sayıların karesi olan bir dictionary comprehension ile yaratınız)\n",
    "\n",
    "\n",
    "Sample Output Dictionary \n",
    "{1: 1, 2: 4, 3: 9, 4: 16, 5: 25, 6: 36, 7: 49, 8: 64, 9: 81, 10: 100, 11: 121, 12: 144, 13: 169, 14: 196, 15: 225}"
   ]
  },
  {
   "cell_type": "code",
   "execution_count": 13,
   "metadata": {},
   "outputs": [
    {
     "name": "stdout",
     "output_type": "stream",
     "text": [
      "{0: 0, 1: 1, 2: 4, 3: 9, 4: 16, 5: 25, 6: 36, 7: 49, 8: 64, 9: 81, 10: 100, 11: 121, 12: 144, 13: 169, 14: 196, 15: 225}\n"
     ]
    }
   ],
   "source": [
    "d1={x : x**2 for x in range(0,16)}\n",
    "print(d1)\n"
   ]
  },
  {
   "cell_type": "markdown",
   "metadata": {},
   "source": [
    "Question 2 Data Structures\n",
    "(15 + 5 = 20 points)"
   ]
  },
  {
   "cell_type": "markdown",
   "metadata": {},
   "source": [
    "a) You are given a sentence. Create a dictionary where each key is a letter and the value is the number of occurences of that letter. Ignore the case! Take into consideration letters only. Be careful for Non-English characters'\n",
    "(Verilen bir cümlede geçen her bir harfin kaç kere geçtiğini tutan bir dictionary yapısı tasarlayınız. Büyük küçük harf farklı olmamalıdır. Sadece harfleri dikkate almanız gerekmektedir. Türkçe karakterleri de dikkate almanız gereklidir. )"
   ]
  },
  {
   "cell_type": "code",
   "execution_count": 15,
   "metadata": {},
   "outputs": [],
   "source": [
    "Sentence= \"Bana pazartesi günü boğaz'da bir kafede saat 15:00 gibi buluşuruz dedi.\"\n",
    "import re"
   ]
  },
  {
   "cell_type": "code",
   "execution_count": null,
   "metadata": {},
   "outputs": [],
   "source": [
    "\\d: Matches any decimal digit; this is equivalent to the class [0-9].\n",
    "\\D: Matches any non-digit character; this is equivalent to the class [^0-9].\n",
    "\\s: Matches any whitespace character; this is equivalent to the class [ \\t\\n\\r\\f\\v].\n",
    "\\S: Matches any non-whitespace character; this is equivalent to the class [^ \\t\\n\\r\\f\\v].\n",
    "\\w: Matches any alphanumeric character; this is equivalent to the class [a-zA-Z0-9_].\n",
    "\\W: Matches any non-alphanumeric character; this is equivalent to the class [^a-zA-Z0-9_]."
   ]
  },
  {
   "cell_type": "markdown",
   "metadata": {},
   "source": [
    "Expected Output:\n",
    "{'b': 5, 'a': 9, 'n': 2, 'p': 1, 'z': 3, 'r': 3, 't': 2, 'e': 4, 's': 2, 'i': 5, 'g': 2, 'ü': 2, 'o': 1, 'ğ': 1, 'd': 4, 'k': 1, 'f': 1, 'u': 4, 'l': 1, 'ş': 1}"
   ]
  },
  {
   "cell_type": "code",
   "execution_count": 27,
   "metadata": {},
   "outputs": [
    {
     "name": "stdout",
     "output_type": "stream",
     "text": [
      "{'b': 5, 'a': 9, 'n': 2, 'p': 1, 'z': 3, 'r': 3, 't': 2, 'e': 4, 's': 2, 'i': 5, 'g': 2, 'ü': 2, 'o': 1, 'ğ': 1, \"'\": 1, 'd': 4, 'k': 1, 'f': 1, '1': 1, '5': 1, ':': 1, '0': 2, 'u': 4, 'l': 1, 'ş': 1, '.': 1}\n"
     ]
    }
   ],
   "source": [
    "letters=[letters for letters in Sentence]\n",
    "D1={}\n",
    "for letter in letters:\n",
    "    if letter!=' ':\n",
    "        letter=letter.lower()\n",
    "        D1[letter]=D1.get(letter,0)+1\n",
    "    \n",
    "print(D1)"
   ]
  },
  {
   "cell_type": "markdown",
   "metadata": {},
   "source": [
    "b) Find the most frequently used letter using the dictionary that you have created above.\n",
    "(Yukarıdaki dictionary yapısını kullanarak en çok geçen harfi bulunuz)"
   ]
  },
  {
   "cell_type": "code",
   "execution_count": 28,
   "metadata": {},
   "outputs": [
    {
     "name": "stdout",
     "output_type": "stream",
     "text": [
      "a  :  9\n"
     ]
    }
   ],
   "source": [
    "max=0\n",
    "deger=''\n",
    "for key, value in D1.items():\n",
    "    \n",
    "    if max<value:\n",
    "        max=value\n",
    "        deger=key\n",
    "        \n",
    "print(deger,\" : \",max)"
   ]
  },
  {
   "cell_type": "markdown",
   "metadata": {},
   "source": [
    "Question 3 Functional Programming\n",
    "(Fonksiyonel programlama araçları -map/filter/reduce- kullanılacaktır. Kesinlikle \"Döngülerle\" yapılmayacak!)\n",
    "3 * 5 = 15 points"
   ]
  },
  {
   "cell_type": "markdown",
   "metadata": {},
   "source": [
    "a) In the following list, first 10 fibonacci numbers are given. Create a new list named \"even_numbers\" that contains only even numbers. Use lambda function. \n",
    "(Aşağıdaki listede ilk 10 fibonacci sayısı verilmiştir. Bu listeyi kullanarak lambda fonksiyonu ve diğer fonksiyonel programlama araçlarıyla sadece çift sayılardan oluşan \"even_numbers\" isimli yeni bir liste yaratınız."
   ]
  },
  {
   "cell_type": "code",
   "execution_count": 29,
   "metadata": {},
   "outputs": [],
   "source": [
    "fibonacci = [0,1,1,2,3,5,8,13,21,34,55]"
   ]
  },
  {
   "cell_type": "code",
   "execution_count": 32,
   "metadata": {},
   "outputs": [
    {
     "name": "stdout",
     "output_type": "stream",
     "text": [
      "[0, 2, 8, 34]\n"
     ]
    }
   ],
   "source": [
    "liste1=list(filter(lambda x:x%2==0,fibonacci))\n",
    "print(liste1)"
   ]
  },
  {
   "cell_type": "markdown",
   "metadata": {},
   "source": [
    "b) Using the same list of fibonacci numbers, create a new list named \"odd_numbers\" that contains only odd numbers.Use lambda function. \n",
    "(Aynı listeyi kullanarak \"even_numbers\" isimli sadece tek sayılardan oluşan bir lsite yaratınız)"
   ]
  },
  {
   "cell_type": "code",
   "execution_count": 35,
   "metadata": {},
   "outputs": [
    {
     "name": "stdout",
     "output_type": "stream",
     "text": [
      "[1, 1, 3, 5, 13, 21, 55]\n"
     ]
    }
   ],
   "source": [
    "liste2=list(filter(lambda x:x%2!=0,fibonacci))\n",
    "print(liste2)"
   ]
  },
  {
   "cell_type": "markdown",
   "metadata": {},
   "source": [
    "c) Create a new list named \"product_odd_even\" by taking the two lists,odd_numbers and even_numbers, \n",
    "and taking the product of the corresponding elements in those lists. Again, use a lambda function. \n",
    "(Yukarıda yarattığınız iki listenin karşılık gelen elemanlarının çarpımından oluşan bir liste yaratınız. )"
   ]
  },
  {
   "cell_type": "code",
   "execution_count": 37,
   "metadata": {},
   "outputs": [
    {
     "name": "stdout",
     "output_type": "stream",
     "text": [
      "[0, 2, 24, 170]\n"
     ]
    }
   ],
   "source": [
    "liste3=list(map(lambda x,y: x*y,liste1,liste2))\n",
    "\n",
    "print(liste3)"
   ]
  },
  {
   "cell_type": "markdown",
   "metadata": {
    "collapsed": true
   },
   "source": [
    "Question 4 Classes \n",
    "15 points"
   ]
  },
  {
   "cell_type": "markdown",
   "metadata": {
    "collapsed": true
   },
   "source": [
    "Create a Car class and a vehicle class. Note that a car is also a vehicle. Your class design should satisfy the following requirements:\n",
    "    Vehicle class should be able to keep track of number of vehicle objects\n",
    "    Each vehicle object should have 2 attributes that is common among all vehicles like vehicle_type and brand.\n",
    "    Each car object should have two more additional attributes like model and color.\n",
    "    When a car object is printed,(called with print method) it should print its attributes in an understandable way.\n",
    "    A car should implement a function to change its color.\n",
    "    Finally, your class should pass the following test.\n",
    "    Remember DRY principle!"
   ]
  },
  {
   "cell_type": "code",
   "execution_count": 18,
   "metadata": {},
   "outputs": [
    {
     "name": "stdout",
     "output_type": "stream",
     "text": [
      "Tipi Car olan aracın, markası  mercedes, modeli c ve rengi white  \n",
      "Tipi Car olan aracın, markası  opel, modeli astra ve rengi red  \n",
      "Tipi Car olan aracın, markası  bmw, modeli 1.16 ve rengi blue  \n",
      "Tipi Car olan aracın, markası  volkswagen, modeli passat ve rengi black  \n"
     ]
    }
   ],
   "source": [
    "carList = []\n",
    "carList.append(Car(\"A Car\", \"mercedes\",\"c\",\"white\"))\n",
    "carList.append(Car(\"A Car\",\"opel\",\"astra\",\"red\")) \n",
    "carList.append(Car(\"A Car\",\"bmw\",\"1.16\",\"blue\"))\n",
    "carList.append(Car(\"A Car\",\"volkswagen\",\"passat\",\"black\"))\n",
    "\n",
    "for x in carList:\n",
    "    print(x)"
   ]
  },
  {
   "cell_type": "code",
   "execution_count": 15,
   "metadata": {},
   "outputs": [],
   "source": [
    "class vehicle():\n",
    "    def __init__(self,tip, marka, model,renk):\n",
    "        self.model = model\n",
    "        self.renk = renk\n",
    "        self.tip = tip\n",
    "        self.marka = marka\n",
    "    def __str__(self):\n",
    "        if self.tip==\"A Car\":\n",
    "            self.tip=\"Car\"\n",
    "        return \"Tipi {} olan aracın, markası  {}, modeli {} ve rengi {}  \".format(self.tip, self.marka, self.model, self.renk)\n"
   ]
  },
  {
   "cell_type": "code",
   "execution_count": 17,
   "metadata": {},
   "outputs": [],
   "source": [
    "class Car(vehicle):\n",
    "    def __init__(self, tip, marka, model, renk):\n",
    "        vehicle.__init__(self,tip, marka, model, renk)\n",
    "        "
   ]
  }
 ],
 "metadata": {
  "kernelspec": {
   "display_name": "Python 3",
   "language": "python",
   "name": "python3"
  },
  "language_info": {
   "codemirror_mode": {
    "name": "ipython",
    "version": 3
   },
   "file_extension": ".py",
   "mimetype": "text/x-python",
   "name": "python",
   "nbconvert_exporter": "python",
   "pygments_lexer": "ipython3",
   "version": "3.6.3"
  }
 },
 "nbformat": 4,
 "nbformat_minor": 2
}
