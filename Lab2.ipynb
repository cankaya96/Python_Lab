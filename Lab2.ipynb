{
 "cells": [
  {
   "cell_type": "code",
   "execution_count": 10,
   "metadata": {},
   "outputs": [],
   "source": [
    "def computepay(hours, rate):\n",
    "    \n",
    "    deger=0\n",
    "    deger2=0\n",
    "    pay=0\n",
    "    \n",
    "\n",
    "\n",
    "    \n",
    "\n",
    "    rate2=1.5\n",
    "\n",
    "\n",
    "    if hours>40:\n",
    "        extra=hours-40\n",
    "        pay1=extra*rate*rate2\n",
    "        pay2=40*rate\n",
    "        pay=pay1+pay2\n",
    "    \n",
    "    else:\n",
    "        pay=hours*rate\n",
    "    \n",
    "    \n",
    "    \n",
    "\n",
    "    print(pay)\n",
    "    "
   ]
  },
  {
   "cell_type": "code",
   "execution_count": 12,
   "metadata": {},
   "outputs": [
    {
     "name": "stdout",
     "output_type": "stream",
     "text": [
      "Çalışma süresi 40\n",
      "saatlik ücret 10\n",
      "400\n"
     ]
    }
   ],
   "source": [
    "hours=input('Çalışma süresi ')\n",
    "rate=input('saatlik ücret ')\n",
    "\n",
    "try :\n",
    "     hours=int(hours)\n",
    "     rate=int(rate)\n",
    "    \n",
    "except :\n",
    "     rate=0\n",
    "\n",
    "if rate==0:\n",
    "    print('saati rakam olarak giriniz')\n",
    "\n",
    "computepay(hours,rate)"
   ]
  }
 ],
 "metadata": {
  "kernelspec": {
   "display_name": "Python 3",
   "language": "python",
   "name": "python3"
  },
  "language_info": {
   "codemirror_mode": {
    "name": "ipython",
    "version": 3
   },
   "file_extension": ".py",
   "mimetype": "text/x-python",
   "name": "python",
   "nbconvert_exporter": "python",
   "pygments_lexer": "ipython3",
   "version": "3.6.3"
  }
 },
 "nbformat": 4,
 "nbformat_minor": 2
}
