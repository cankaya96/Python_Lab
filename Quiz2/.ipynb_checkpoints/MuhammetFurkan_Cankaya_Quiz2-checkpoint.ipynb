{
 "cells": [
  {
   "cell_type": "code",
   "execution_count": 41,
   "metadata": {},
   "outputs": [
    {
     "name": "stdout",
     "output_type": "stream",
     "text": [
      "['already', 'and', 'arise', 'breaks', 'but', 'east', 'envious', 'fair', 'grief', 'is', 'it', 'juliet', 'kill', 'light', 'moon', 'pale', 'sick', 'soft', 'sun', 'the', 'through', 'what', 'who', 'window', 'with', 'yonder']\n"
     ]
    }
   ],
   "source": [
    "\n",
    "handle = open(\"romeo.txt\")\n",
    "\n",
    "counts = list()\n",
    "for line in handle:\n",
    "    words = line.split()\n",
    "    for word in words:\n",
    "        if word not in counts:\n",
    "            counts.append(word.lower())\n",
    "        else:\n",
    "            continue\n",
    "counts.sort()\n",
    "\n",
    "print(counts)"
   ]
  },
  {
   "cell_type": "code",
   "execution_count": 44,
   "metadata": {},
   "outputs": [
    {
     "name": "stdout",
     "output_type": "stream",
     "text": [
      "a  count is  3\n",
      "b  count is  2\n",
      "e  count is  2\n",
      "f  count is  1\n",
      "g  count is  1\n",
      "i  count is  2\n",
      "j  count is  1\n",
      "k  count is  1\n",
      "l  count is  1\n",
      "m  count is  1\n",
      "p  count is  1\n",
      "s  count is  3\n",
      "t  count is  2\n",
      "w  count is  4\n",
      "y  count is  1\n"
     ]
    }
   ],
   "source": [
    "counts2=dict()\n",
    "\n",
    "for line in counts:\n",
    "    \n",
    "    abc=line[0]\n",
    "    if abc not in counts2:\n",
    "        counts2[abc]=1\n",
    "    else:\n",
    "        counts2[abc]=counts2[abc]+1\n",
    "        \n",
    "for word,count in counts2.items():\n",
    "    word1=word\n",
    "    count1=count\n",
    "    print(word1,' count is ',count1)"
   ]
  }
 ],
 "metadata": {
  "kernelspec": {
   "display_name": "Python 3",
   "language": "python",
   "name": "python3"
  },
  "language_info": {
   "codemirror_mode": {
    "name": "ipython",
    "version": 3
   },
   "file_extension": ".py",
   "mimetype": "text/x-python",
   "name": "python",
   "nbconvert_exporter": "python",
   "pygments_lexer": "ipython3",
   "version": "3.6.3"
  }
 },
 "nbformat": 4,
 "nbformat_minor": 2
}
