{
 "cells": [
  {
   "cell_type": "markdown",
   "metadata": {},
   "source": [
    "# 2018-2019 Fall Semester BLM250E Midterm Exam"
   ]
  },
  {
   "cell_type": "raw",
   "metadata": {},
   "source": [
    "| Q1   | Q2   | Q3   | Q4   | Q5   | Q6   | Q7   |\n",
    "\n",
    "\n",
    "|------|------|------|------|------|------|------|"
   ]
  },
  {
   "cell_type": "markdown",
   "metadata": {},
   "source": [
    "# Question 1. (10 p)\n",
    "Implement a function called closest_power that meets the specifications below.\n",
    "For example,\n",
    "closest_power(3,12) returns 2\n",
    "closest_power(4,12) returns 2\n",
    "closest_power(4,1) returns 0\n",
    "closest_power(4,100) returns 3\n",
    "(closest_power isimli bir fonksiyon yazınız. Bu fonksiyon, girilen ikinci argümanın birinci argümanın kaçıncı kuvvetine en yakın olduğunu döndürmelidir.)"
   ]
  },
  {
   "cell_type": "code",
   "execution_count": 13,
   "metadata": {},
   "outputs": [],
   "source": [
    "def closest_power(base, num):\n",
    "    # Your code here\n",
    "    power=0\n",
    "    fark1=None\n",
    "    fark2=None\n",
    "    while (base**power)<num:\n",
    "        \n",
    "        mesafe=None\n",
    "        \n",
    "        if(((mesafe is None)and(fark1 is None))):\n",
    "            mesafe=base**power\n",
    "            \n",
    "        else:\n",
    "            fark1=num-mesafe\n",
    "            if(fark1 < 0):\n",
    "                fark1=fark1*(-1)\n",
    "                \n",
    "        if(fark2 is None):\n",
    "            fark2=fark1\n",
    "        if((fark2 is not None)and(fark2>fark1)):\n",
    "            fark2=fark1\n",
    "        \n",
    "        power=power+1\n",
    "        \n",
    "    if(power==0):\n",
    "        return power\n",
    "    else:\n",
    "        return power-1\n",
    "    \n",
    "    "
   ]
  },
  {
   "cell_type": "code",
   "execution_count": 8,
   "metadata": {},
   "outputs": [
    {
     "name": "stdout",
     "output_type": "stream",
     "text": [
      "2\n"
     ]
    }
   ],
   "source": [
    "print(closest_power(3,12))"
   ]
  },
  {
   "cell_type": "code",
   "execution_count": null,
   "metadata": {
    "collapsed": true
   },
   "outputs": [],
   "source": []
  },
  {
   "cell_type": "code",
   "execution_count": 14,
   "metadata": {},
   "outputs": [
    {
     "name": "stdout",
     "output_type": "stream",
     "text": [
      "2\n",
      "1\n",
      "0\n",
      "3\n"
     ]
    }
   ],
   "source": [
    "print(closest_power(3,12))\n",
    "print(closest_power(4,12))\n",
    "print(closest_power(4,1))\n",
    "print(closest_power(4,100))"
   ]
  },
  {
   "cell_type": "markdown",
   "metadata": {},
   "source": [
    "# Question 2. (15 p.)\n",
    "Write a function, called “countSubStrRec” that take two arguments, a key string and a target string, and counts the number of instances of the key in the target string recursively or iteratively. \n",
    "(Bir anahtar bir de hedef string olmak üzere 2 parametre alan “countSubStrRec” isimli fonksiyon, hedef içinde kaç kere anahtar ifadenin olduğunu bulup döndürmelidir.)\n",
    "countSubStrRec('ar','marmara') -> 2 expected output"
   ]
  },
  {
   "cell_type": "code",
   "execution_count": 15,
   "metadata": {},
   "outputs": [],
   "source": [
    "def countSubStrRec(key, target_string):\n",
    "    # Your code here\n",
    "    counter=0\n",
    "    counter2=0\n",
    "    counter3=0\n",
    "    liste=[]\n",
    "    temp=\"\"\n",
    "    total=0\n",
    "    total2=0\n",
    "    for k in key:\n",
    "        counter=counter+1\n",
    "    for t in target_string:\n",
    "        counter3=counter3+1\n",
    "    for i in range(counter3):\n",
    "        for k in range(counter):\n",
    "            if(i+k<counter3):\n",
    "                if(target_string[i+k]==key[k]):\n",
    "                    total=total+1\n",
    "                else:\n",
    "                    total=0\n",
    "        if(total==counter):\n",
    "            total2=total2+1\n",
    "    \n",
    "    return total2\n",
    "    \n",
    "    \n"
   ]
  },
  {
   "cell_type": "code",
   "execution_count": 16,
   "metadata": {},
   "outputs": [
    {
     "name": "stdout",
     "output_type": "stream",
     "text": [
      "2\n"
     ]
    }
   ],
   "source": [
    "print(countSubStrRec('ar','marmara'))"
   ]
  },
  {
   "cell_type": "code",
   "execution_count": 17,
   "metadata": {},
   "outputs": [
    {
     "name": "stdout",
     "output_type": "stream",
     "text": [
      "2\n",
      "3\n"
     ]
    }
   ],
   "source": [
    "print(countSubStrRec('ar','marmara'))\n",
    "print(countSubStrRec('top','toplantı odasında toplantı yapmak için toplandık'))"
   ]
  },
  {
   "cell_type": "markdown",
   "metadata": {},
   "source": [
    "# Question 3. (10 p.)\n",
    "Implement a function that takes two strings of equal length and returns the distance between them. The distance between two strings is the number of positions at which the corresponding symbols are different.\n",
    "Check if the given strings are of equal length, if not, return -1.\n",
    "(Girilen iki string arasında mesafeyi, aynı pozisyondaki farklı karakter sayısı olarak hesaplayıp döndüren fonksiyonu yazınız. Stringler eşit uzunlukta değilse -1 değeri döndürülmelidir.)\n",
    "\n",
    "Example function call:\n",
    "compute_hamming_distance('marmara', 'makarna') should return 4"
   ]
  },
  {
   "cell_type": "code",
   "execution_count": 46,
   "metadata": {
    "collapsed": true
   },
   "outputs": [],
   "source": [
    "def compute_hamming_distance(str1, str2):\n",
    "     # Your code here\n",
    "    counter1=0\n",
    "    counter2=0\n",
    "    fark=0\n",
    "    for s1 in str1:\n",
    "        counter1=counter1+1\n",
    "    for s2 in str2:\n",
    "        counter2=counter2+1\n",
    "    if(counter1!=counter2):\n",
    "        return -1\n",
    "    else:\n",
    "        for i in range(counter1):\n",
    "            if(str1[i]!=str2[i]):\n",
    "                fark=fark+1\n",
    "        \n",
    "        return fark\n",
    "        \n",
    "        \n",
    "        \n",
    "        "
   ]
  },
  {
   "cell_type": "code",
   "execution_count": 47,
   "metadata": {},
   "outputs": [
    {
     "name": "stdout",
     "output_type": "stream",
     "text": [
      "4\n"
     ]
    }
   ],
   "source": [
    "print(compute_hamming_distance('marmara','makarna'))"
   ]
  },
  {
   "cell_type": "code",
   "execution_count": 49,
   "metadata": {},
   "outputs": [
    {
     "name": "stdout",
     "output_type": "stream",
     "text": [
      "4\n",
      "-1\n"
     ]
    }
   ],
   "source": [
    "print(compute_hamming_distance('marmara','makarna'))\n",
    "print(compute_hamming_distance('adalet','saadeteee'))"
   ]
  },
  {
   "cell_type": "markdown",
   "metadata": {},
   "source": [
    "# Question 4. (10 p.)\n",
    "Write a python code that removes all the elements that occurs more than once in a given list. Note that the original list should be changed.\n",
    "\n",
    "(Aşağıdaki gibi verilen bir listede tekrarlanan elemanların sadece 1 tanesinin kalacağı şekilde değişiklik yapan kod parçasını yazınız)\n",
    "\n",
    "print(my_original_list) should return [3,4,'b',2]"
   ]
  },
  {
   "cell_type": "code",
   "execution_count": 73,
   "metadata": {
    "collapsed": true
   },
   "outputs": [],
   "source": [
    "my_original_list= [1,3,4,'a',1,'b','a','2']"
   ]
  },
  {
   "cell_type": "code",
   "execution_count": 74,
   "metadata": {},
   "outputs": [
    {
     "name": "stdout",
     "output_type": "stream",
     "text": [
      "[1, 3, 4, 'a', 'b', '2']\n"
     ]
    }
   ],
   "source": [
    " # Your code here\n",
    "dic={}\n",
    "\n",
    "for i in my_original_list:\n",
    "    dic[i]=dic.get(i,i)\n",
    "    \n",
    "my_original_list.clear()\n",
    "for k,v in dic.items():\n",
    "    my_original_list.append(v)\n",
    "print(my_original_list)"
   ]
  },
  {
   "cell_type": "code",
   "execution_count": 27,
   "metadata": {},
   "outputs": [
    {
     "name": "stdout",
     "output_type": "stream",
     "text": [
      "[3, 4, 1, 'b', 'a', '2']\n"
     ]
    }
   ],
   "source": [
    "print(my_original_list)"
   ]
  },
  {
   "cell_type": "markdown",
   "metadata": {},
   "source": [
    "# Question 5 (20 p.)\n",
    "Write a Python function to find three numbers from an array such that the sum of three numbers equal to zero and returns each of those three elements as a list item.\n",
    "(rakamlardan oluşan bir listeyi alıp bu liste içinden toplamı sıfır olan her üçlü elemanı yeni bir listeye koyup, bu listelerden oluşan tek bir liste döbdüren fonksiyonu yazınız.)\n",
    "Input : [-1,0,1,2,-1,-4]\n",
    "Output : [[-1, -1, 2], [-1, 0, 1]] # no duplicates!!!"
   ]
  },
  {
   "cell_type": "code",
   "execution_count": 5,
   "metadata": {},
   "outputs": [],
   "source": [
    "def findTripletEqualZero(myList):\n",
    "    \n",
    "    # Your code here\n",
    "    liste=[]\n",
    "    counter=0\n",
    "    for c in myList:\n",
    "        counter=counter+1\n",
    "    for i in range(counter):\n",
    "        for j in range(i,counter):\n",
    "            for k in range(j+i,counter):\n",
    "                if((myList[i]+myList[k]+myList[j])==0):\n",
    "                    liste.append([i,j,k])\n",
    "    \n",
    "    \n",
    "    return liste\n",
    "    \n",
    "\n",
    "\n",
    "    "
   ]
  },
  {
   "cell_type": "code",
   "execution_count": 3,
   "metadata": {},
   "outputs": [],
   "source": [
    "#Doğru Kod\n",
    "\n",
    "def findDogrusu(myList):\n",
    "    myNewList= []\n",
    "    innerList= []\n",
    "    for i in range(len(myList)):\n",
    "        for j in range(i+1,len(myList)):\n",
    "            for k in range(j+1,len(myList)):\n",
    "                if myList[i]+myList[j]+myList[k]== 0:\n",
    "                    innerList= [myList[i], myList[j], myList[k]]\n",
    "                    found= False\n",
    "                    for [a,b,c] in myNewList:\n",
    "                        if a in innerList and b in innerList and c in innerList:\n",
    "                            found= True\n",
    "                            break\n",
    "                    if not found:\n",
    "                        myNewList.append(innerList)\n",
    "    return myNewList"
   ]
  },
  {
   "cell_type": "code",
   "execution_count": 12,
   "metadata": {},
   "outputs": [
    {
     "data": {
      "text/plain": [
       "[[-1, 0, 1], [-1, 2, -1]]"
      ]
     },
     "execution_count": 12,
     "metadata": {},
     "output_type": "execute_result"
    }
   ],
   "source": [
    "\n",
    "findDogrusu([-1,0,1,2,-1,-4])\n"
   ]
  },
  {
   "cell_type": "code",
   "execution_count": 11,
   "metadata": {},
   "outputs": [
    {
     "data": {
      "text/plain": [
       "[[0, 0, 3], [0, 1, 2], [0, 3, 4], [1, 2, 4]]"
      ]
     },
     "execution_count": 11,
     "metadata": {},
     "output_type": "execute_result"
    }
   ],
   "source": [
    "findTripletEqualZero([-1,0,1,2,-1,-4])"
   ]
  },
  {
   "cell_type": "markdown",
   "metadata": {},
   "source": [
    "# Question 6 (15 + 5 = 20 p.)\n",
    "a) Open the file lyrics.txt and read it line by line. For each line, split the line into a list of words using the split() method. Then create a dictionary with keys equal to the words in the txt file and the values equal to the frequency of each word ignoring the case. Print each word and its frequency using this dictionary. (lyrics.txt dosyasını açıp satır satır okuyumuz. Her bir satırdaki kelimeleri split fonksiyonu ile ayırabilirsiniz. Bu text dosyasındaki her bir kelimenin anahtar, bu kelimenin kaç kere geçtiğinin ise değer olduğu bir \"dictionary\" yapısı oluşturunuz, ekrana yazdırınız. Büyük küçük harf duyarlı olmayacaktır. İsterseniz tüm harfleri önce büyük harfe çevirebilirsiniz. )"
   ]
  },
  {
   "cell_type": "code",
   "execution_count": 1,
   "metadata": {},
   "outputs": [
    {
     "name": "stdout",
     "output_type": "stream",
     "text": [
      "{'EVERY': 1, 'NIGHT': 1, 'IN': 3, 'MY': 4, 'DREAMS': 1, 'I': 7, 'SEE': 1, 'YOU,': 3, 'FEEL': 1, 'YOU': 7, 'THAT': 3, 'IS': 1, 'HOW': 1, 'KNOW': 1, 'GO': 7, 'ON': 7, 'FAR': 1, 'ACROSS': 1, 'THE': 4, 'DISTANCE': 1, 'AND': 6, 'SPACES': 1, 'BETWEEN': 1, 'US': 2, 'HAVE': 1, 'COME': 1, 'TO': 1, 'SHOW': 1, 'NEAR,': 2, 'FAR,': 2, 'WHEREVER': 2, 'ARE': 2, 'BELIEVE': 2, 'HEART': 4, 'DOES': 2, 'ONCE': 2, 'MORE': 2, 'OPEN': 1, 'DOOR': 1, \"YOU'RE\": 1, 'HERE': 1, 'WILL': 1, 'LOVE': 2, 'CAN': 1, 'TOUCH': 1, 'ONE': 2, 'TIME': 2, 'LAST': 1, 'FOR': 1, 'A': 1, 'LIFETIME': 1, 'NEVER': 1, 'LET': 1, 'TILL': 1, \"WE'RE\": 1, 'GONE': 1, 'WAS': 1, 'WHEN': 1, 'LOVED': 1, 'TRUE': 1, 'HOLD': 1, 'LIFE': 1, \"WE'LL\": 1, 'ALWAYS': 1}\n"
     ]
    }
   ],
   "source": [
    "# Answer 6_a) SOLVE HERE en çok geçenlerden birini vermen yeterli\n",
    "fhand=open(\"lyrics.txt\")\n",
    "\n",
    "\n",
    "dic={}\n",
    "for line in fhand:\n",
    "    for word in line.split():\n",
    "        word=word.upper()\n",
    "        dic[word]=dic.get(word,0)+1\n",
    "\n",
    "\n",
    "print(dic)"
   ]
  },
  {
   "cell_type": "markdown",
   "metadata": {
    "collapsed": true
   },
   "source": [
    "b) What is the most frequently used word? (En çok kullanılan kelime hangisidir?)"
   ]
  },
  {
   "cell_type": "code",
   "execution_count": 2,
   "metadata": {},
   "outputs": [
    {
     "name": "stdout",
     "output_type": "stream",
     "text": [
      "I  :  7\n"
     ]
    }
   ],
   "source": [
    "# Answer 6_b) SOLVE HERE\n",
    "\n",
    "bigCount=None\n",
    "bigWord=None\n",
    "\n",
    "for k,v in dic.items():\n",
    "    tempK=k\n",
    "    tempV=v\n",
    "    if((bigWord is None)and(bigCount is None)):\n",
    "        bigWord=tempK\n",
    "        bigCount=tempV\n",
    "        \n",
    "    if(bigCount<v):\n",
    "        bigWord=k\n",
    "        bigCount=v\n",
    "    \n",
    "\n",
    "print(bigWord,\" : \",bigCount)"
   ]
  },
  {
   "cell_type": "markdown",
   "metadata": {},
   "source": [
    "# Question 7 (15 p.)\n",
    "\n",
    "Implement a function that returns the sum of elements in a given nested list like the one shown below. [1, [2, [3, 4], 5], 6, [7, 8]] (Aşağıdaki gibi \"rastgele\" derinlikte verilen, sadece sayılardan oluşan bir listenin elemanlarının toplamını bulan fonksiyon yazınız)\n",
    "Hint: You may use \"isinstance\" built-in function"
   ]
  },
  {
   "cell_type": "code",
   "execution_count": 89,
   "metadata": {
    "collapsed": true
   },
   "outputs": [],
   "source": [
    "def sum_arbitraryShapeList(my_list):\n",
    "    #  SOLVE HERE:\n",
    "    toplam=0\n",
    "    \n",
    "    for i in my_list:\n",
    "        if(isinstance(i,list)):\n",
    "            toplam+=sum_arbitraryShapeList(i)\n",
    "            \n",
    "        else:\n",
    "            toplam=toplam+i\n",
    "            \n",
    "    return toplam"
   ]
  },
  {
   "cell_type": "code",
   "execution_count": 90,
   "metadata": {},
   "outputs": [
    {
     "data": {
      "text/plain": [
       "36"
      ]
     },
     "execution_count": 90,
     "metadata": {},
     "output_type": "execute_result"
    }
   ],
   "source": [
    "l= [1, [2, [3, 4], 5], 6, [7, 8]]\n",
    "sum_arbitraryShapeList(l)"
   ]
  },
  {
   "cell_type": "code",
   "execution_count": 32,
   "metadata": {},
   "outputs": [
    {
     "data": {
      "text/plain": [
       "36"
      ]
     },
     "execution_count": 32,
     "metadata": {},
     "output_type": "execute_result"
    }
   ],
   "source": [
    "l= [1, [2, [3, 4], 5], 6, [7, 8]]\n",
    "sum_arbitraryShapeList(l)"
   ]
  }
 ],
 "metadata": {
  "kernelspec": {
   "display_name": "Python 3",
   "language": "python",
   "name": "python3"
  },
  "language_info": {
   "codemirror_mode": {
    "name": "ipython",
    "version": 3
   },
   "file_extension": ".py",
   "mimetype": "text/x-python",
   "name": "python",
   "nbconvert_exporter": "python",
   "pygments_lexer": "ipython3",
   "version": "3.6.3"
  }
 },
 "nbformat": 4,
 "nbformat_minor": 2
}
