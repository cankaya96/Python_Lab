{
 "cells": [
  {
   "cell_type": "code",
   "execution_count": 19,
   "metadata": {
    "collapsed": false
   },
   "outputs": [
    {
     "name": "stdout",
     "output_type": "stream",
     "text": [
      "basket: {'orange', 'pear', 'apple', 'banana'}\n"
     ]
    }
   ],
   "source": [
    "basket = {'apple', 'apple', 'orange', 'pear', 'orange', 'banana'}\n",
    "\n",
    "print('basket:', basket)"
   ]
  },
  {
   "cell_type": "code",
   "execution_count": 20,
   "metadata": {
    "collapsed": false
   },
   "outputs": [
    {
     "name": "stdout",
     "output_type": "stream",
     "text": [
      "portakal does not exist.\n"
     ]
    }
   ],
   "source": [
    "item = 'orange'\n",
    "\n",
    "if item in basket:\n",
    "    pass\n",
    "elif item not in basket:\n",
    "    print(item, 'does not exist.')"
   ]
  },
  {
   "cell_type": "code",
   "execution_count": 3,
   "metadata": {
    "collapsed": false,
    "scrolled": true
   },
   "outputs": [
    {
     "name": "stdout",
     "output_type": "stream",
     "text": [
      "empty: set()\n",
      "d: {}\n",
      "type of empty: <class 'set'>\n",
      "type of d: <class 'dict'>\n"
     ]
    }
   ],
   "source": [
    "# To create an empty set you have to use set(), not {}\n",
    "empty = set()\n",
    "d = {}\n",
    "\n",
    "print('empty:', empty)\n",
    "print('d:', d)\n",
    "print('type of empty:', type(empty))\n",
    "print('type of d:', type(d))"
   ]
  },
  {
   "cell_type": "code",
   "execution_count": 5,
   "metadata": {
    "collapsed": false,
    "scrolled": false
   },
   "outputs": [
    {
     "name": "stdout",
     "output_type": "stream",
     "text": [
      "a: {'a', 'd', 'c', 'b', 'r'}\n",
      "a - b: {'d', 'b', 'r'}\n",
      "a | b: {'l', 'r', 'c', 'd', 'z', 'm', 'a', 'b'}\n",
      "a & b: {'a', 'c'}\n",
      "a ^ b: {'l', 'r', 'd', 'm', 'z', 'b'}\n"
     ]
    }
   ],
   "source": [
    "# Demonstrate set operations on unique letters from two words\n",
    "a = set('abracadabra')\n",
    "b = set('alacazam')\n",
    "\n",
    "print('a:', a)  # unique letters in a\n",
    "print('a - b:', a - b)  # letters in a but not in b\n",
    "print('a | b:', a | b)  # letters in either a or b\n",
    "print('a & b:', a & b)  # letters in both a and b\n",
    "print('a ^ b:', a ^ b)  # letters in a or b but not both"
   ]
  },
  {
   "cell_type": "code",
   "execution_count": 27,
   "metadata": {
    "collapsed": false
   },
   "outputs": [
    {
     "name": "stdout",
     "output_type": "stream",
     "text": [
      "True\n"
     ]
    }
   ],
   "source": [
    "# List comprehension\n",
    "def square(x):\n",
    "    return x ** 2\n",
    "\n",
    "l = [0, 1, 2, 3, 4, 5, 6, 7, 8, 9]\n",
    "\n",
    "squares1 = list(map(square, l))\n",
    "squares2 = list(map(lambda x: x ** 2, range(10)))\n",
    "squares3 = [x ** 2 for x in range(10)]\n",
    "\n",
    "isEqual = squares1 == squares2 == squares3\n",
    "\n",
    "print(isEqual)"
   ]
  },
  {
   "cell_type": "code",
   "execution_count": 28,
   "metadata": {
    "collapsed": false
   },
   "outputs": [
    {
     "name": "stdout",
     "output_type": "stream",
     "text": [
      "a: {'d', 'r'}\n"
     ]
    }
   ],
   "source": [
    "# Set comprehension\n",
    "a = {x for x in 'abracadabra' if x not in 'abc'}\n",
    "\n",
    "print('a:', a)"
   ]
  }
 ],
 "metadata": {
  "kernelspec": {
   "display_name": "Python 3",
   "language": "python",
   "name": "python3"
  },
  "language_info": {
   "codemirror_mode": {
    "name": "ipython",
    "version": 3
   },
   "file_extension": ".py",
   "mimetype": "text/x-python",
   "name": "python",
   "nbconvert_exporter": "python",
   "pygments_lexer": "ipython3",
   "version": "3.5.1"
  }
 },
 "nbformat": 4,
 "nbformat_minor": 0
}
