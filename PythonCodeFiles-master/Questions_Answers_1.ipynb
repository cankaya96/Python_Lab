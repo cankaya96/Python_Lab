{
 "cells": [
  {
   "cell_type": "code",
   "execution_count": 52,
   "metadata": {
    "collapsed": true
   },
   "outputs": [],
   "source": [
    "# http://www.w3resource.com/python-exercises/challenges/1/index.php\n",
    "# all built-in functions are allowed"
   ]
  },
  {
   "cell_type": "raw",
   "metadata": {},
   "source": [
    "1. Write a Python program to check if a given \"positive integer\" is a power of two.\n",
    "Input : 4\n",
    "Output : True"
   ]
  },
  {
   "cell_type": "code",
   "execution_count": 7,
   "metadata": {
    "collapsed": true
   },
   "outputs": [],
   "source": [
    "def isPowerOfTwo(sayi):\n",
    "    if sayi%2 !=0: # if not even\n",
    "        return False\n",
    "    else:\n",
    "        s= 1\n",
    "        while s<=sayi:\n",
    "            if (s== sayi):\n",
    "                return True\n",
    "            s= s * 2\n",
    "        else:\n",
    "            return False        "
   ]
  },
  {
   "cell_type": "code",
   "execution_count": 8,
   "metadata": {
    "collapsed": false
   },
   "outputs": [
    {
     "data": {
      "text/plain": [
       "True"
      ]
     },
     "execution_count": 8,
     "metadata": {},
     "output_type": "execute_result"
    }
   ],
   "source": [
    "isPowerOfTwo(128)"
   ]
  },
  {
   "cell_type": "code",
   "execution_count": 9,
   "metadata": {
    "collapsed": false
   },
   "outputs": [
    {
     "data": {
      "text/plain": [
       "False"
      ]
     },
     "execution_count": 9,
     "metadata": {},
     "output_type": "execute_result"
    }
   ],
   "source": [
    "isPowerOfTwo(1280)"
   ]
  },
  {
   "cell_type": "raw",
   "metadata": {},
   "source": [
    "2. Write a Python program to find three numbers from an array such that the sum of three numbers equal to zero.\n",
    "Input : [-1,0,1,2,-1,-4]\n",
    "Output : [[-1, -1, 2], [-1, 0, 1]] # no duplicates!!!"
   ]
  },
  {
   "cell_type": "code",
   "execution_count": 3,
   "metadata": {
    "collapsed": false
   },
   "outputs": [],
   "source": [
    "def findTripletEqualZero(myList):\n",
    "    myNewList= []\n",
    "    innerList= []\n",
    "    for i in range(len(myList)):\n",
    "        for j in range(i+1,len(myList)):\n",
    "            for k in range(j+1,len(myList)):\n",
    "                if myList[i]+myList[j]+myList[k]== 0:\n",
    "                    innerList= [myList[i], myList[j], myList[k]]\n",
    "                    found= False\n",
    "                    for [a,b,c] in myNewList:\n",
    "                        if a in innerList and b in innerList and c in innerList:\n",
    "                            found= True\n",
    "                            break\n",
    "                    if not found:\n",
    "                        myNewList.append(innerList)\n",
    "    return myNewList"
   ]
  },
  {
   "cell_type": "code",
   "execution_count": 4,
   "metadata": {
    "collapsed": false
   },
   "outputs": [
    {
     "data": {
      "text/plain": [
       "[[-1, 0, 1], [-1, 2, -1]]"
      ]
     },
     "execution_count": 4,
     "metadata": {},
     "output_type": "execute_result"
    }
   ],
   "source": [
    "L= [-1,0,1,2,-1,-4]\n",
    "findTripletEqualZero(L)"
   ]
  },
  {
   "cell_type": "raw",
   "metadata": {},
   "source": [
    "3. Write a Python program to reverse the digits of an integer.\n",
    "Input : 234\n",
    "Input : -234\n",
    "Output: 432\n",
    "Output : -432       "
   ]
  },
  {
   "cell_type": "code",
   "execution_count": 5,
   "metadata": {
    "collapsed": false
   },
   "outputs": [],
   "source": [
    "def reverseInt(i):\n",
    "    i_str= str (i)\n",
    "    i_str= i_str[::-1]\n",
    "    return int(i_str)"
   ]
  },
  {
   "cell_type": "code",
   "execution_count": 6,
   "metadata": {
    "collapsed": false
   },
   "outputs": [
    {
     "name": "stdout",
     "output_type": "stream",
     "text": [
      "3541\n"
     ]
    }
   ],
   "source": [
    "print(reverseInt(1453))"
   ]
  },
  {
   "cell_type": "code",
   "execution_count": null,
   "metadata": {
    "collapsed": false
   },
   "outputs": [],
   "source": []
  },
  {
   "cell_type": "raw",
   "metadata": {},
   "source": []
  },
  {
   "cell_type": "code",
   "execution_count": null,
   "metadata": {
    "collapsed": true
   },
   "outputs": [],
   "source": []
  }
 ],
 "metadata": {
  "kernelspec": {
   "display_name": "Python 3",
   "language": "python",
   "name": "python3"
  },
  "language_info": {
   "codemirror_mode": {
    "name": "ipython",
    "version": 3
   },
   "file_extension": ".py",
   "mimetype": "text/x-python",
   "name": "python",
   "nbconvert_exporter": "python",
   "pygments_lexer": "ipython3",
   "version": "3.6.0"
  }
 },
 "nbformat": 4,
 "nbformat_minor": 2
}
