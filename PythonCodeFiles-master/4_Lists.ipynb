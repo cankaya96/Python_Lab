{
 "cells": [
  {
   "cell_type": "markdown",
   "metadata": {},
   "source": [
    "### Common list literals and operations\n",
    "    Operation                          Interpretation\n",
    "    L = []                             An empty list\n",
    "    L = [123, 'abc', 1.23, {}]         Four items: indexes 0..3\n",
    "    L = ['Bob', 40.0, ['dev', 'mgr']]  Nested sublists\n",
    "    L = list('spam')                   List of an iterable’s items, list of successive integers\n",
    "    L = list(range(-4, 4))\n",
    "    L[i]                               Index, index of index, slice, length\n",
    "    L[i][j]\n",
    "    L[i:j]\n",
    "    len(L)\n",
    "    L1 + L2                            Concatenate, repeat\n",
    "    L * 3\n",
    "    for x in L: print(x)               Iteration, membership\n",
    "    3 in L\n",
    "    L.append(4)                        Methods: growing\n",
    "    L.extend([5,6,7])                  L.insert(i, X)\n",
    "    L.index(X)                         Methods: searching\n",
    "    L.count(X)\n",
    "    L.sort()                           Methods: sorting, reversing,\n",
    "    L.reverse()                        \n",
    "    L.copy()\n",
    "    L.clear()\n",
    "    L.pop(i)                           Methods, statements: shrinking\n",
    "    L.remove(X)\n",
    "    del L[i]\n",
    "    del L[i:j]\n",
    "    L[i:j] = []\n",
    "    L[i] = 3                           Index assignment, slice assignment\n",
    "    L[i:j] = [4,5,6]\n",
    "    L = [x**2 for x in range(5)]       List comprehensions and maps\n",
    "    list(map(ord, 'spam'))s"
   ]
  },
  {
   "cell_type": "code",
   "execution_count": 8,
   "metadata": {
    "collapsed": false
   },
   "outputs": [
    {
     "name": "stdout",
     "output_type": "stream",
     "text": [
      "['Istanbul', 34, 'Izmir', 35, 'Ankara', 6, 'Muğla']\n",
      "['Istanbul', 34, 'Izmir', 35, 'Ankara', 6, 'Muğla', 48, 1, 2, 3]\n"
     ]
    }
   ],
   "source": [
    "list=['Istanbul',34,'Izmir',35,'Ankara',6] \n",
    "list.append('Muğla')\n",
    "value = 48\n",
    "print(list)\n",
    "#a = [1,2,'xx',value]\n",
    "#list[len(list):] = [a]\n",
    "list[len(list):] = [value,1,2,3]\n",
    "print(list)"
   ]
  },
  {
   "cell_type": "code",
   "execution_count": 9,
   "metadata": {
    "collapsed": false
   },
   "outputs": [
    {
     "name": "stdout",
     "output_type": "stream",
     "text": [
      "['Istanbul', 34, 'Izmir', 35, 'Ankara', 6, 'Muğla', 48, 1, 2, 3, 'a', 'b', 'c']\n"
     ]
    }
   ],
   "source": [
    "x=['a','b','c'] \n",
    "list.extend(x)\n",
    "print(list)"
   ]
  },
  {
   "cell_type": "code",
   "execution_count": 10,
   "metadata": {
    "collapsed": false
   },
   "outputs": [
    {
     "name": "stdout",
     "output_type": "stream",
     "text": [
      "['Start', 'Istanbul', 34, 'Izmir', 35, 'Ankara', 6, 'Muğla', 48, 1, 2, 3, 'a', 'b', 'c']\n"
     ]
    }
   ],
   "source": [
    "list.insert(0,'Start')\n",
    "print(list)            #list.insert(len(list),x) => list.append(x) "
   ]
  },
  {
   "cell_type": "code",
   "execution_count": 4,
   "metadata": {
    "collapsed": false
   },
   "outputs": [
    {
     "name": "stdout",
     "output_type": "stream",
     "text": [
      "['Istanbul', 34, 'Izmir', 35, 'Ankara', 6, 'Muğla', 48, 1, 2, 3, 'a', 'b', 'c']\n"
     ]
    }
   ],
   "source": [
    "list.remove('Start')\n",
    "print(list)        "
   ]
  },
  {
   "cell_type": "code",
   "execution_count": 5,
   "metadata": {
    "collapsed": false
   },
   "outputs": [
    {
     "name": "stdout",
     "output_type": "stream",
     "text": [
      "['Istanbul', 'Izmir', 35, 'Ankara', 6, 'Muğla', 48, 1, 2, 3, 'a', 'b']\n"
     ]
    }
   ],
   "source": [
    "list.pop(1)   # removes the element at the specified index\n",
    "list.pop()     # removes the last element\n",
    "print(list) "
   ]
  },
  {
   "cell_type": "code",
   "execution_count": 6,
   "metadata": {
    "collapsed": false
   },
   "outputs": [
    {
     "name": "stdout",
     "output_type": "stream",
     "text": [
      "[]\n"
     ]
    }
   ],
   "source": [
    "list.clear() # equivalent to del list[:] \n",
    "print(list)"
   ]
  },
  {
   "cell_type": "code",
   "execution_count": 7,
   "metadata": {
    "collapsed": false
   },
   "outputs": [
    {
     "name": "stdout",
     "output_type": "stream",
     "text": [
      "[10, 20, 30, 40, 20, 50]\n",
      "1\n"
     ]
    }
   ],
   "source": [
    "a = [10,20,30,40,20,50]  \n",
    "index = a.index(20) #kendisine parametre olarak verilen değerin indexini döner.\n",
    "print(a)           #Eğer değerden 2 veya daha fazla varsa ilk sıradakinin indexini döner.\n",
    "print(index)"
   ]
  },
  {
   "cell_type": "code",
   "execution_count": 8,
   "metadata": {
    "collapsed": false
   },
   "outputs": [
    {
     "name": "stdout",
     "output_type": "stream",
     "text": [
      "2\n"
     ]
    }
   ],
   "source": [
    "count = a.count(20) # returns the count of the given element\n",
    "print(count)"
   ]
  },
  {
   "cell_type": "code",
   "execution_count": 9,
   "metadata": {
    "collapsed": false
   },
   "outputs": [
    {
     "name": "stdout",
     "output_type": "stream",
     "text": [
      "[50, 20, 40, 30, 20, 10]\n"
     ]
    }
   ],
   "source": [
    "a.reverse() # reverses the list\n",
    "print(a)\n"
   ]
  },
  {
   "cell_type": "code",
   "execution_count": 10,
   "metadata": {
    "collapsed": false
   },
   "outputs": [
    {
     "name": "stdout",
     "output_type": "stream",
     "text": [
      "[50, 20, 40, 30, 20, 10]\n"
     ]
    }
   ],
   "source": [
    "b = a.copy() # a new list instance is returned\n",
    "print(b)"
   ]
  },
  {
   "cell_type": "code",
   "execution_count": 11,
   "metadata": {
    "collapsed": false
   },
   "outputs": [
    {
     "name": "stdout",
     "output_type": "stream",
     "text": [
      "[0, 1, 10, 45, 80]\n"
     ]
    }
   ],
   "source": [
    "C = [10,80,1,45,0]\n",
    "C.sort()\n",
    "print(C)"
   ]
  },
  {
   "cell_type": "code",
   "execution_count": 4,
   "metadata": {
    "collapsed": false
   },
   "outputs": [
    {
     "name": "stdout",
     "output_type": "stream",
     "text": [
      "[2, 4, 6, 8, 9, 11, 23, 21]\n",
      "[2, 4, 6, 8, 9, 11, 23]\n"
     ]
    }
   ],
   "source": [
    "stack = [2,4,6,8,9,11,23] # Lists as a stack      \n",
    "                          \n",
    "stack.append(21)          \n",
    "print(stack)\n",
    "stack.pop()              \n",
    "print(stack)"
   ]
  },
  {
   "cell_type": "code",
   "execution_count": 3,
   "metadata": {
    "collapsed": false
   },
   "outputs": [
    {
     "name": "stdout",
     "output_type": "stream",
     "text": [
      "deque(['Erdal', 'Ahmet', 'Emre', 'Can', 'Cem'])\n",
      "deque(['Ahmet', 'Emre', 'Can', 'Cem'])\n",
      "deque(['Emre', 'Can', 'Cem'])\n"
     ]
    }
   ],
   "source": [
    "# Lists as a Queue\n",
    "from collections import deque\n",
    "kuyruk = deque([\"Erdal\", \"Ahmet\", \"Emre\"])\n",
    "kuyruk.append(\"Can\")           \n",
    "kuyruk.append(\"Cem\")            \n",
    "print(kuyruk)\n",
    "kuyruk.popleft()                \n",
    "print(kuyruk)\n",
    "kuyruk.popleft()             \n",
    "print(kuyruk)"
   ]
  },
  {
   "cell_type": "code",
   "execution_count": 14,
   "metadata": {
    "collapsed": false
   },
   "outputs": [
    {
     "name": "stdout",
     "output_type": "stream",
     "text": [
      "[0, 10, 20, 30, 40, 50, 60, 70, 80, 90]\n",
      "[(-5, 125), (3, 27), (1, 1), (0, 0), (-4, 64)]\n"
     ]
    }
   ],
   "source": [
    "sayilar = []\n",
    "for x in range(10):\n",
    "    sayilar.append(x*10)\n",
    "print(sayilar)\n",
    "\n",
    "#sayilar = list(map(lambda x: x*10, range(10)))\n",
    "#sayilar = [x*10 for x in range(10)]\n",
    "\n",
    "numbers = [-5,3,1,0,-4]\n",
    "list2 = [(x,abs(x)**3) for x in numbers]\n",
    "print(list2)"
   ]
  },
  {
   "cell_type": "code",
   "execution_count": 15,
   "metadata": {
    "collapsed": false
   },
   "outputs": [
    {
     "name": "stdout",
     "output_type": "stream",
     "text": [
      "[[1, 4, 9], [16, 25, 36]]\n"
     ]
    }
   ],
   "source": [
    "matris = [\n",
    "     [1, 4],\n",
    "     [2, 5],\n",
    "     [3, 6],\n",
    " ]\n",
    " \n",
    "transpozekare = []\n",
    "for i in range(2):\n",
    "    transpoze_satir = []\n",
    "    for satir in matris:\n",
    "        transpoze_satir.append(satir[i]**2)\n",
    "    transpozekare.append(transpoze_satir)\n",
    "print(transpozekare)\n",
    "\n",
    "#transpozekare = []\n",
    "#for i in range(2):\n",
    "#    transpozekare.append([satir[i]**2 for satir in matris])\n",
    "#print(transpozekare)\n",
    "\n",
    "#transpozekare = [[satir[i]**2 for satir in matris] for i in range(2)]\n",
    "#print(transpozekare)\n",
    "\n",
    "#print([[satir[i]**2 for satir in matris] for i in range(2)])"
   ]
  },
  {
   "cell_type": "code",
   "execution_count": null,
   "metadata": {
    "collapsed": true
   },
   "outputs": [],
   "source": []
  }
 ],
 "metadata": {
  "kernelspec": {
   "display_name": "Python 3",
   "language": "python",
   "name": "python3"
  },
  "language_info": {
   "codemirror_mode": {
    "name": "ipython",
    "version": 3
   },
   "file_extension": ".py",
   "mimetype": "text/x-python",
   "name": "python",
   "nbconvert_exporter": "python",
   "pygments_lexer": "ipython3",
   "version": "3.6.0"
  }
 },
 "nbformat": 4,
 "nbformat_minor": 0
}
