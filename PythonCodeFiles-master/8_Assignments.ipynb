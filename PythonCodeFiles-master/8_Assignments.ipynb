{
 "cells": [
  {
   "cell_type": "markdown",
   "metadata": {},
   "source": [
    "### Assignment statement forms\n",
    "    Basic form: \n",
    "        spam = 'Spam' \n",
    "    Tuple assignment (positional): \n",
    "        spam, ham = 'yum', 'YUM' \n",
    "    List assignment (positional)\n",
    "        [spam, ham] = ['yum', 'YUM'] \n",
    "    Sequence assignment, generalized:\n",
    "        a, b, c, d = 'spam' \n",
    "    Extended sequence unpacking (Python 3.X):\n",
    "        a, *b = 'spam' \n",
    "    Multiple-target assignment:\n",
    "        spam = ham = 'lunch' \n",
    "    Augmented assignment (equivalent to spams = spams + 42 ):\n",
    "        spams += 42 "
   ]
  },
  {
   "cell_type": "code",
   "execution_count": 14,
   "metadata": {
    "collapsed": false
   },
   "outputs": [
    {
     "name": "stdout",
     "output_type": "stream",
     "text": [
      "s\n",
      "['p', 'a', 'm']\n"
     ]
    }
   ],
   "source": [
    "a, *b = 'spam' # first character is assigned to a, and the rest is assigned to b\n",
    "# *X: extended sequence unpacking: it collects the list items for which there is no reference\n",
    "print(a); print(b)"
   ]
  },
  {
   "cell_type": "code",
   "execution_count": 21,
   "metadata": {
    "collapsed": false
   },
   "outputs": [
    {
     "name": "stdout",
     "output_type": "stream",
     "text": [
      "1 2 3 4\n"
     ]
    }
   ],
   "source": [
    "seq= [1,2,3,4]\n",
    "a,b,c,d= seq\n",
    "print(a,b,c,d)"
   ]
  },
  {
   "cell_type": "code",
   "execution_count": 22,
   "metadata": {
    "collapsed": false
   },
   "outputs": [
    {
     "ename": "ValueError",
     "evalue": "too many values to unpack (expected 2)",
     "output_type": "error",
     "traceback": [
      "\u001b[1;31m---------------------------------------------------------------------------\u001b[0m",
      "\u001b[1;31mValueError\u001b[0m                                Traceback (most recent call last)",
      "\u001b[1;32m<ipython-input-22-5ca58e4c19d5>\u001b[0m in \u001b[0;36m<module>\u001b[1;34m()\u001b[0m\n\u001b[1;32m----> 1\u001b[1;33m \u001b[0ma\u001b[0m\u001b[1;33m,\u001b[0m\u001b[0mb\u001b[0m\u001b[1;33m=\u001b[0m \u001b[0mseq\u001b[0m \u001b[1;31m# error!\u001b[0m\u001b[1;33m\u001b[0m\u001b[0m\n\u001b[0m",
      "\u001b[1;31mValueError\u001b[0m: too many values to unpack (expected 2)"
     ]
    }
   ],
   "source": [
    "a,b= seq # error!"
   ]
  },
  {
   "cell_type": "code",
   "execution_count": 26,
   "metadata": {
    "collapsed": false
   },
   "outputs": [
    {
     "name": "stdout",
     "output_type": "stream",
     "text": [
      "1 2 [3, 4]\n"
     ]
    }
   ],
   "source": [
    "a,b,*c = seq\n",
    "print(a,b,c)"
   ]
  },
  {
   "cell_type": "code",
   "execution_count": 27,
   "metadata": {
    "collapsed": false
   },
   "outputs": [
    {
     "name": "stdout",
     "output_type": "stream",
     "text": [
      "1 [2, 3] 4\n"
     ]
    }
   ],
   "source": [
    "a,*b,c = seq\n",
    "print(a,b,c)"
   ]
  },
  {
   "cell_type": "code",
   "execution_count": 28,
   "metadata": {
    "collapsed": false
   },
   "outputs": [
    {
     "name": "stdout",
     "output_type": "stream",
     "text": [
      "True\n"
     ]
    }
   ],
   "source": [
    "pam = ham = 'lunch' # assigns two references, spam and ham, to the same objects\n",
    "# identical to: ham='lunch'; spam= ham\n",
    "print(spam is ham) # is operator compares references"
   ]
  },
  {
   "cell_type": "code",
   "execution_count": null,
   "metadata": {
    "collapsed": false
   },
   "outputs": [],
   "source": []
  },
  {
   "cell_type": "code",
   "execution_count": null,
   "metadata": {
    "collapsed": false
   },
   "outputs": [],
   "source": []
  },
  {
   "cell_type": "code",
   "execution_count": null,
   "metadata": {
    "collapsed": true
   },
   "outputs": [],
   "source": []
  }
 ],
 "metadata": {
  "kernelspec": {
   "display_name": "Python 3",
   "language": "python",
   "name": "python3"
  },
  "language_info": {
   "codemirror_mode": {
    "name": "ipython",
    "version": 3
   },
   "file_extension": ".py",
   "mimetype": "text/x-python",
   "name": "python",
   "nbconvert_exporter": "python",
   "pygments_lexer": "ipython3",
   "version": "3.6.0"
  },
  "nbpresent": {
   "slides": {
    "168380c5-3b38-493c-888f-2a52080e8a2d": {
     "id": "168380c5-3b38-493c-888f-2a52080e8a2d",
     "prev": "5ffb4ffb-c7d8-4edb-8ad7-ead8826e9271",
     "regions": {
      "581c47fd-d60b-45d4-85dd-288104be8933": {
       "attrs": {
        "height": 0.8,
        "width": 0.8,
        "x": 0.1,
        "y": 0.1
       },
       "content": {
        "cell": "e6d66a04-8c4a-44b0-97b2-44a50e16b529",
        "part": "whole"
       },
       "id": "581c47fd-d60b-45d4-85dd-288104be8933"
      }
     }
    },
    "5ffb4ffb-c7d8-4edb-8ad7-ead8826e9271": {
     "id": "5ffb4ffb-c7d8-4edb-8ad7-ead8826e9271",
     "prev": "e577865a-f8ca-4935-846c-d50a39fe289a",
     "regions": {
      "629fd9ad-24fc-44bb-ae6c-cf4390554821": {
       "attrs": {
        "height": 0.8,
        "width": 0.8,
        "x": -0.005646630236794212,
        "y": 0.09514268366727371
       },
       "content": {
        "cell": "199d0513-aff2-4527-8cba-4ed921c566f1",
        "part": "whole"
       },
       "id": "629fd9ad-24fc-44bb-ae6c-cf4390554821"
      }
     }
    },
    "e577865a-f8ca-4935-846c-d50a39fe289a": {
     "id": "e577865a-f8ca-4935-846c-d50a39fe289a",
     "prev": null,
     "regions": {
      "207851ba-c52a-4464-ae81-cdf19f475437": {
       "attrs": {
        "height": 0.8,
        "width": 0.8,
        "x": 0.1,
        "y": 0.1
       },
       "content": {
        "cell": "dc8c0682-aaf8-46bf-b6c6-09b0ba844d26",
        "part": "whole"
       },
       "id": "207851ba-c52a-4464-ae81-cdf19f475437"
      }
     }
    }
   },
   "themes": {}
  }
 },
 "nbformat": 4,
 "nbformat_minor": 0
}
