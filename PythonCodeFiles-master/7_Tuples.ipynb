{
 "cells": [
  {
   "cell_type": "code",
   "execution_count": 42,
   "metadata": {
    "collapsed": false,
    "slideshow": {
     "slide_type": "-"
    }
   },
   "outputs": [
    {
     "name": "stdout",
     "output_type": "stream",
     "text": [
      "t[0]: 111\n",
      "t: (111, 222, 'hello')\n"
     ]
    }
   ],
   "source": [
    "# A tuple consists of a number of values separated by commas\n",
    "t = 111, 222, 'hello'\n",
    "\n",
    "print('t[0]:', t[0])\n",
    "print('t:', t)"
   ]
  },
  {
   "cell_type": "code",
   "execution_count": 43,
   "metadata": {
    "collapsed": false,
    "scrolled": true
   },
   "outputs": [
    {
     "name": "stdout",
     "output_type": "stream",
     "text": [
      "111 222 hello\n"
     ]
    }
   ],
   "source": [
    "# The reverse operation is also possible\n",
    "x, y, z = t\n",
    "\n",
    "print(x, y, z)"
   ]
  },
  {
   "cell_type": "code",
   "execution_count": 44,
   "metadata": {
    "collapsed": false
   },
   "outputs": [
    {
     "name": "stdout",
     "output_type": "stream",
     "text": [
      "u: ((111, 222, 'hello'), (1, 2, 3, 4))\n"
     ]
    }
   ],
   "source": [
    "# Tuples may be nested\n",
    "u = t, (1, 2, 3, 4)\n",
    "\n",
    "print('u:', u)"
   ]
  },
  {
   "cell_type": "code",
   "execution_count": 45,
   "metadata": {
    "collapsed": false
   },
   "outputs": [
    {
     "name": "stdout",
     "output_type": "stream",
     "text": [
      "Error: 'tuple' object does not support item assignment\n"
     ]
    }
   ],
   "source": [
    "# Tuples are immutable\n",
    "try:\n",
    "    t[0] = 888\n",
    "    print(t)\n",
    "except TypeError as e:\n",
    "    print('Error:', str(e))"
   ]
  },
  {
   "cell_type": "code",
   "execution_count": 51,
   "metadata": {
    "collapsed": false
   },
   "outputs": [
    {
     "name": "stdout",
     "output_type": "stream",
     "text": [
      "t: ('888', 222, 'hello')\n"
     ]
    }
   ],
   "source": [
    "# To change a value of a tuple\n",
    "tmp = list(t)\n",
    "tmp[0] = '888'\n",
    "t = tuple(tmp)\n",
    "\n",
    "print('t:', t)"
   ]
  },
  {
   "cell_type": "code",
   "execution_count": 55,
   "metadata": {
    "collapsed": false
   },
   "outputs": [
    {
     "name": "stdout",
     "output_type": "stream",
     "text": [
      "v: ([1, 2, 3], [3, 2, 1])\n"
     ]
    }
   ],
   "source": [
    "# It can contain mutable objects\n",
    "v = ([1, 2, 3], [3, 2, 1])\n",
    "\n",
    "print('v:', v)"
   ]
  },
  {
   "cell_type": "code",
   "execution_count": 48,
   "metadata": {
    "collapsed": false
   },
   "outputs": [
    {
     "name": "stdout",
     "output_type": "stream",
     "text": [
      "empty: ()\n",
      "type: <class 'tuple'>\n"
     ]
    }
   ],
   "source": [
    "# Empty tuples are constructed by an empty pair of parentheses\n",
    "empty = ()\n",
    "\n",
    "print('empty:', empty)\n",
    "print('type:', type(empty))"
   ]
  },
  {
   "cell_type": "code",
   "execution_count": 59,
   "metadata": {
    "collapsed": false
   },
   "outputs": [
    {
     "name": "stdout",
     "output_type": "stream",
     "text": [
      "singleton: ('hello',)\n",
      "<class 'tuple'>\n"
     ]
    }
   ],
   "source": [
    "# A tuple with one item is constructed by following a value \n",
    "# with a comma\n",
    "singleton = 'hello',\n",
    "\n",
    "print('singleton:', singleton)\n",
    "print(type(singleton))"
   ]
  }
 ],
 "metadata": {
  "kernelspec": {
   "display_name": "Python 3",
   "language": "python",
   "name": "python3"
  },
  "language_info": {
   "codemirror_mode": {
    "name": "ipython",
    "version": 3
   },
   "file_extension": ".py",
   "mimetype": "text/x-python",
   "name": "python",
   "nbconvert_exporter": "python",
   "pygments_lexer": "ipython3",
   "version": "3.5.1"
  }
 },
 "nbformat": 4,
 "nbformat_minor": 0
}
