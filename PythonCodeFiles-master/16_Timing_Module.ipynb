{
 "cells": [
  {
   "cell_type": "code",
   "execution_count": 7,
   "metadata": {
    "collapsed": true
   },
   "outputs": [],
   "source": [
    "import time \n",
    "# time module gives access to the current time, with precision that varies per platform\n",
    "def timer(func, *args):\n",
    "    start = time.clock()\n",
    "    for i in range(1000): # running 1,000 calls to the passed-in function\n",
    "        func(*args)\n",
    "    return time.clock() - start"
   ]
  },
  {
   "cell_type": "code",
   "execution_count": 2,
   "metadata": {
    "collapsed": false
   },
   "outputs": [
    {
     "data": {
      "text/plain": [
       "0.0012820000000000054"
      ]
     },
     "execution_count": 2,
     "metadata": {},
     "output_type": "execute_result"
    }
   ],
   "source": [
    "timer(pow, 2, 1000)"
   ]
  },
  {
   "cell_type": "code",
   "execution_count": 9,
   "metadata": {
    "collapsed": false
   },
   "outputs": [
    {
     "name": "stdout",
     "output_type": "stream",
     "text": [
      "3.6.0 |Anaconda 4.3.0 (64-bit)| (default, Dec 23 2016, 12:22:00) \n",
      "[GCC 4.4.7 20120313 (Red Hat 4.4.7-1)]\n"
     ]
    }
   ],
   "source": [
    "\"Test the relative speed of iteration tool alternatives.\"\n",
    "import time\n",
    "reps = 10000\n",
    "repslist = list(range(reps))                     # Hoist out, list in both 2.X/3.X\n",
    "\n",
    "def forLoop(*args):\n",
    "    res = []\n",
    "    for x in repslist:\n",
    "        res.append(abs(x))\n",
    "    return res\n",
    "\n",
    "def listComp(*args):\n",
    "    return [abs(x) for x in repslist]\n",
    "\n",
    "def mapCall(*args):\n",
    "    return list(map(abs, repslist))              # Use list() here in 3.X only!\n",
    "  # return map(abs, repslist)\n",
    "\n",
    "def genExpr(*args):\n",
    "    return list(abs(x) for x in repslist)        # list() required to force results\n",
    "\n",
    "def genFunc(*args):\n",
    "    def gen():\n",
    "        for x in repslist:\n",
    "            yield abs(x)\n",
    "    return list(gen())                           # list() required to force results\n",
    "\n",
    "print(sys.version)"
   ]
  },
  {
   "cell_type": "code",
   "execution_count": 12,
   "metadata": {
    "collapsed": false
   },
   "outputs": [
    {
     "name": "stdout",
     "output_type": "stream",
     "text": [
      "forLoop   => [1.133823]\n",
      "listComp  => [0.6193960000000001]\n",
      "mapCall   => [0.2787240000000004]\n",
      "genExpr   => [0.8609239999999998]\n",
      "genFunc   => [0.8601649999999994]\n"
     ]
    }
   ],
   "source": [
    "for test in (forLoop, listComp, mapCall, genExpr, genFunc):\n",
    "    time_took= timer(test, 5, 1000)\n",
    "    print ('%-9s => [%s]' % (test.__name__, time_took))"
   ]
  },
  {
   "cell_type": "markdown",
   "metadata": {},
   "source": [
    "### the first thing you should do to optimize Python code is to not optimize Python code! \n",
    "### Write for readability and simplicity first, then optimize  later, if and only if needed."
   ]
  },
  {
   "cell_type": "code",
   "execution_count": 13,
   "metadata": {
    "collapsed": false
   },
   "outputs": [
    {
     "data": {
      "text/plain": [
       "0.2875161020001542"
      ]
     },
     "execution_count": 13,
     "metadata": {},
     "output_type": "execute_result"
    }
   ],
   "source": [
    "# using timeit module:\n",
    "import timeit\n",
    "min(timeit.repeat(stmt=\"[x ** 2 for x in range(1000)]\", number=1000, repeat=5))"
   ]
  },
  {
   "cell_type": "code",
   "execution_count": 14,
   "metadata": {
    "collapsed": false
   },
   "outputs": [
    {
     "data": {
      "text/plain": [
       "0.2947182709995104"
      ]
     },
     "execution_count": 14,
     "metadata": {},
     "output_type": "execute_result"
    }
   ],
   "source": [
    "min(timeit.repeat(stmt=\"[x ** 2 for x in range(1000)]\", number=1000, repeat=5))"
   ]
  },
  {
   "cell_type": "markdown",
   "metadata": {},
   "source": [
    "others:\n",
    "* pystone module\n",
    "* http://speed.python.org"
   ]
  },
  {
   "cell_type": "code",
   "execution_count": null,
   "metadata": {
    "collapsed": true
   },
   "outputs": [],
   "source": []
  }
 ],
 "metadata": {
  "kernelspec": {
   "display_name": "Python 3",
   "language": "python",
   "name": "python3"
  },
  "language_info": {
   "codemirror_mode": {
    "name": "ipython",
    "version": 3
   },
   "file_extension": ".py",
   "mimetype": "text/x-python",
   "name": "python",
   "nbconvert_exporter": "python",
   "pygments_lexer": "ipython3",
   "version": "3.6.0"
  }
 },
 "nbformat": 4,
 "nbformat_minor": 2
}
