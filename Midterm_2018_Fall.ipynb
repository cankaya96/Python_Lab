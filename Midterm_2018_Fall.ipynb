{
 "cells": [
  {
   "cell_type": "markdown",
   "metadata": {},
   "source": [
    "# 2018-2019 Fall Semester BLM250E Midterm Exam"
   ]
  },
  {
   "cell_type": "raw",
   "metadata": {},
   "source": [
    "| Q1   | Q2   | Q3   | Q4   | Q5   | Q6   | Q7   |\n",
    "\n",
    "\n",
    "|------|------|------|------|------|------|------|"
   ]
  },
  {
   "cell_type": "markdown",
   "metadata": {},
   "source": [
    "# Question 1. (10 p)\n",
    "Implement a function called closest_power that meets the specifications below.\n",
    "For example,\n",
    "closest_power(3,12) returns 2\n",
    "closest_power(4,12) returns 2\n",
    "closest_power(4,1) returns 0\n",
    "closest_power(4,100) returns 3\n",
    "(closest_power isimli bir fonksiyon yazınız. Bu fonksiyon, girilen ikinci argümanın birinci argümanın kaçıncı kuvvetine en yakın olduğunu döndürmelidir.)"
   ]
  },
  {
   "cell_type": "code",
   "execution_count": null,
   "metadata": {
    "collapsed": true
   },
   "outputs": [],
   "source": [
    "def closest_power(base, num):\n",
    "    # Your code here\n",
    "    \n",
    "    \n",
    "    "
   ]
  },
  {
   "cell_type": "code",
   "execution_count": 4,
   "metadata": {
    "collapsed": false
   },
   "outputs": [
    {
     "name": "stdout",
     "output_type": "stream",
     "text": [
      "2\n",
      "2\n",
      "0\n",
      "3\n"
     ]
    }
   ],
   "source": [
    "print(closest_power(3,12))\n",
    "print(closest_power(4,12))\n",
    "print(closest_power(4,1))\n",
    "print(closest_power(4,100))"
   ]
  },
  {
   "cell_type": "markdown",
   "metadata": {},
   "source": [
    "# Question 2. (15 p.)\n",
    "Write a function, called “countSubStrRec” that take two arguments, a key string and a target string, and counts the number of instances of the key in the target string recursively or iteratively. \n",
    "(Bir anahtar bir de hedef string olmak üzere 2 parametre alan “countSubStrRec” isimli fonksiyon, hedef içinde kaç kere anahtar ifadenin olduğunu bulup döndürmelidir.)\n",
    "countSubStrRec('ar','marmara') -> 2 expected output"
   ]
  },
  {
   "cell_type": "code",
   "execution_count": null,
   "metadata": {
    "collapsed": true
   },
   "outputs": [],
   "source": [
    "def countSubStrRec(key, target_string):\n",
    "    # Your code here\n",
    "    \n",
    "    \n",
    "    \n",
    "    \n"
   ]
  },
  {
   "cell_type": "code",
   "execution_count": 8,
   "metadata": {
    "collapsed": false
   },
   "outputs": [
    {
     "name": "stdout",
     "output_type": "stream",
     "text": [
      "2\n",
      "3\n"
     ]
    }
   ],
   "source": [
    "print(countSubStrRec('ar','marmara'))\n",
    "print(countSubStrRec('top','toplantı odasında toplantı yapmak için toplandık'))"
   ]
  },
  {
   "cell_type": "markdown",
   "metadata": {},
   "source": [
    "# Question 3. (10 p.)\n",
    "Implement a function that takes two strings of equal length and returns the distance between them. The distance between two strings is the number of positions at which the corresponding symbols are different.\n",
    "Check if the given strings are of equal length, if not, return -1.\n",
    "(Girilen iki string arasında mesafeyi, aynı pozisyondaki farklı karakter sayısı olarak hesaplayıp döndüren fonksiyonu yazınız. Stringler eşit uzunlukta değilse -1 değeri döndürülmelidir.)\n",
    "\n",
    "Example function call:\n",
    "compute_hamming_distance('marmara', 'makarna') should return 4"
   ]
  },
  {
   "cell_type": "code",
   "execution_count": null,
   "metadata": {
    "collapsed": true
   },
   "outputs": [],
   "source": [
    "def compute_hamming_distance(str1, str1):\n",
    "     # Your code here\n",
    "        \n",
    "        \n",
    "        \n",
    "        \n",
    "        "
   ]
  },
  {
   "cell_type": "code",
   "execution_count": 18,
   "metadata": {
    "collapsed": false
   },
   "outputs": [
    {
     "name": "stdout",
     "output_type": "stream",
     "text": [
      "4\n",
      "3\n"
     ]
    }
   ],
   "source": [
    "print(compute_hamming_distance('marmara','makarna'))\n",
    "print(compute_hamming_distance('adalet','saadet'))"
   ]
  },
  {
   "cell_type": "markdown",
   "metadata": {},
   "source": [
    "# Question 4. (10 p.)\n",
    "Write a python code that removes all the elements that occurs more than once in a given list. Note that the original list should be changed.\n",
    "\n",
    "(Aşağıdaki gibi verilen bir listede tekrarlanan elemanların sadece 1 tanesinin kalacağı şekilde değişiklik yapan kod parçasını yazınız)\n",
    "\n",
    "print(my_original_list) should return [3,4,'b',2]"
   ]
  },
  {
   "cell_type": "code",
   "execution_count": 24,
   "metadata": {
    "collapsed": true
   },
   "outputs": [],
   "source": [
    "my_original_list= [1,3,4,'a',1,'b','a','2']"
   ]
  },
  {
   "cell_type": "code",
   "execution_count": null,
   "metadata": {
    "collapsed": true
   },
   "outputs": [],
   "source": [
    " # Your code here\n",
    "    \n",
    "    \n",
    "\n"
   ]
  },
  {
   "cell_type": "code",
   "execution_count": 27,
   "metadata": {
    "collapsed": false
   },
   "outputs": [
    {
     "name": "stdout",
     "output_type": "stream",
     "text": [
      "[3, 4, 1, 'b', 'a', '2']\n"
     ]
    }
   ],
   "source": [
    "print(my_original_list)"
   ]
  },
  {
   "cell_type": "markdown",
   "metadata": {},
   "source": [
    "# Question 5 (20 p.)\n",
    "Write a Python function to find three numbers from an array such that the sum of three numbers equal to zero and returns each of those three elements as a list item.\n",
    "(rakamlardan oluşan bir listeyi alıp bu liste içinden toplamı sıfır olan her üçlü elemanı yeni bir listeye koyup, bu listelerden oluşan tek bir liste döbdüren fonksiyonu yazınız.)\n",
    "Input : [-1,0,1,2,-1,-4]\n",
    "Output : [[-1, -1, 2], [-1, 0, 1]] # no duplicates!!!"
   ]
  },
  {
   "cell_type": "code",
   "execution_count": null,
   "metadata": {
    "collapsed": true
   },
   "outputs": [],
   "source": [
    "def findTripletEqualZero(myList):\n",
    "    # Your code here\n",
    "    \n",
    "    \n",
    "    \n",
    "    \n",
    "    \n",
    "    \n",
    "    \n",
    "    "
   ]
  },
  {
   "cell_type": "code",
   "execution_count": 29,
   "metadata": {
    "collapsed": false
   },
   "outputs": [
    {
     "data": {
      "text/plain": [
       "[[-1, 0, 1], [-1, 2, -1]]"
      ]
     },
     "execution_count": 29,
     "metadata": {},
     "output_type": "execute_result"
    }
   ],
   "source": [
    "findTripletEqualZero([-1,0,1,2,-1,-4])"
   ]
  },
  {
   "cell_type": "markdown",
   "metadata": {},
   "source": [
    "# Question 6 (15 + 5 = 20 p.)\n",
    "a) Open the file lyrics.txt and read it line by line. For each line, split the line into a list of words using the split() method. Then create a dictionary with keys equal to the words in the txt file and the values equal to the frequency of each word ignoring the case. Print each word and its frequency using this dictionary. (lyrics.txt dosyasını açıp satır satır okuyumuz. Her bir satırdaki kelimeleri split fonksiyonu ile ayırabilirsiniz. Bu text dosyasındaki her bir kelimenin anahtar, bu kelimenin kaç kere geçtiğinin ise değer olduğu bir \"dictionary\" yapısı oluşturunuz, ekrana yazdırınız. Büyük küçük harf duyarlı olmayacaktır. İsterseniz tüm harfleri önce büyük harfe çevirebilirsiniz. )"
   ]
  },
  {
   "cell_type": "code",
   "execution_count": null,
   "metadata": {
    "collapsed": true
   },
   "outputs": [],
   "source": [
    "# Answer 6_a) SOLVE HERE\n",
    "\n",
    "\n",
    "\n"
   ]
  },
  {
   "cell_type": "markdown",
   "metadata": {
    "collapsed": true
   },
   "source": [
    "b) What is the most frequently used word? (En çok kullanılan kelime hangisidir?)"
   ]
  },
  {
   "cell_type": "code",
   "execution_count": null,
   "metadata": {
    "collapsed": true
   },
   "outputs": [],
   "source": [
    "# Answer 6_b) SOLVE HERE\n",
    "\n",
    "\n",
    "\n"
   ]
  },
  {
   "cell_type": "markdown",
   "metadata": {},
   "source": [
    "# Question 7 (15 p.)\n",
    "\n",
    "Implement a function that returns the sum of elements in a given nested list like the one shown below. [1, [2, [3, 4], 5], 6, [7, 8]] (Aşağıdaki gibi \"rastgele\" derinlikte verilen, sadece sayılardan oluşan bir listenin elemanlarının toplamını bulan fonksiyon yazınız)\n",
    "Hint: You may use \"isinstance\" built-in function"
   ]
  },
  {
   "cell_type": "code",
   "execution_count": null,
   "metadata": {
    "collapsed": true
   },
   "outputs": [],
   "source": [
    "def sum_arbitraryShapeList(my_list):\n",
    "    #  SOLVE HERE:"
   ]
  },
  {
   "cell_type": "code",
   "execution_count": 32,
   "metadata": {
    "collapsed": false
   },
   "outputs": [
    {
     "data": {
      "text/plain": [
       "36"
      ]
     },
     "execution_count": 32,
     "metadata": {},
     "output_type": "execute_result"
    }
   ],
   "source": [
    "l= [1, [2, [3, 4], 5], 6, [7, 8]]\n",
    "sum_arbitraryShapeList(l)"
   ]
  }
 ],
 "metadata": {
  "kernelspec": {
   "display_name": "Python 3",
   "language": "python",
   "name": "python3"
  },
  "language_info": {
   "codemirror_mode": {
    "name": "ipython",
    "version": 3
   },
   "file_extension": ".py",
   "mimetype": "text/x-python",
   "name": "python",
   "nbconvert_exporter": "python",
   "pygments_lexer": "ipython3",
   "version": "3.6.0"
  }
 },
 "nbformat": 4,
 "nbformat_minor": 2
}
