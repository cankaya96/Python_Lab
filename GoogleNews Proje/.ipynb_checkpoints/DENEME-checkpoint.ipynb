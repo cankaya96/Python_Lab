{
 "cells": [
  {
   "cell_type": "code",
   "execution_count": 19,
   "metadata": {},
   "outputs": [],
   "source": [
    "import requests\n",
    "from bs4 import BeautifulSoup as bs"
   ]
  },
  {
   "cell_type": "code",
   "execution_count": 20,
   "metadata": {},
   "outputs": [],
   "source": [
    "url ='https://news.google.com/?hl=tr&gl=TR&ceid=TR:tr'"
   ]
  },
  {
   "cell_type": "code",
   "execution_count": 21,
   "metadata": {},
   "outputs": [],
   "source": [
    "r=requests.get(url)\n"
   ]
  },
  {
   "cell_type": "code",
   "execution_count": 22,
   "metadata": {},
   "outputs": [],
   "source": [
    "soup = bs(r.content,'html.parser' )\n",
    "#print(soup.prettify())"
   ]
  },
  {
   "cell_type": "code",
   "execution_count": 23,
   "metadata": {},
   "outputs": [
    {
     "data": {
      "text/plain": [
       "['bugün']"
      ]
     },
     "execution_count": 23,
     "metadata": {},
     "output_type": "execute_result"
    }
   ],
   "source": [
    "soup.title.string\n",
    "soup.find(class_='WW6dff').children\n",
    "soup.find(class_='WW6dff').contents\n"
   ]
  },
  {
   "cell_type": "code",
   "execution_count": 68,
   "metadata": {},
   "outputs": [
    {
     "ename": "AttributeError",
     "evalue": "'NoneType' object has no attribute 'find_all'",
     "output_type": "error",
     "traceback": [
      "\u001b[1;31m---------------------------------------------------------------------------\u001b[0m",
      "\u001b[1;31mAttributeError\u001b[0m                            Traceback (most recent call last)",
      "\u001b[1;32m<ipython-input-68-4a3ec57a99f3>\u001b[0m in \u001b[0;36m<module>\u001b[1;34m()\u001b[0m\n\u001b[1;32m----> 1\u001b[1;33m \u001b[0msh_links\u001b[0m\u001b[1;33m=\u001b[0m\u001b[0msoup\u001b[0m\u001b[1;33m.\u001b[0m\u001b[0mfind\u001b[0m\u001b[1;33m(\u001b[0m \u001b[0mclass_\u001b[0m\u001b[1;33m=\u001b[0m\u001b[1;34m'ajwQHc BL5WZb'\u001b[0m\u001b[1;33m)\u001b[0m\u001b[1;33m.\u001b[0m\u001b[0mfind_all\u001b[0m\u001b[1;33m(\u001b[0m\u001b[1;34m\"a\"\u001b[0m\u001b[1;33m)\u001b[0m\u001b[1;33m\u001b[0m\u001b[0m\n\u001b[0m\u001b[0;32m      2\u001b[0m \u001b[1;33m\u001b[0m\u001b[0m\n\u001b[0;32m      3\u001b[0m \u001b[0mdic\u001b[0m\u001b[1;33m=\u001b[0m\u001b[1;33m{\u001b[0m\u001b[1;33m}\u001b[0m\u001b[1;33m\u001b[0m\u001b[0m\n\u001b[0;32m      4\u001b[0m \u001b[0mdic2\u001b[0m\u001b[1;33m=\u001b[0m\u001b[1;33m{\u001b[0m\u001b[1;33m}\u001b[0m\u001b[1;33m\u001b[0m\u001b[0m\n\u001b[0;32m      5\u001b[0m \u001b[0mlistem2\u001b[0m\u001b[1;33m=\u001b[0m\u001b[1;33m[\u001b[0m\u001b[1;33m]\u001b[0m\u001b[1;33m\u001b[0m\u001b[0m\n",
      "\u001b[1;31mAttributeError\u001b[0m: 'NoneType' object has no attribute 'find_all'"
     ]
    }
   ],
   "source": [
    "sh_links=soup.find( class_='ajwQHc BL5WZb').find_all(\"a\")\n",
    "\n",
    "dic={}\n",
    "dic2={}\n",
    "listem2=[]\n",
    "listem=[]\n",
    "counter=-1\n",
    "for url in sh_links:\n",
    "    if(counter%2==0):\n",
    "        if(url.get_text('span') is not '' ):\n",
    "            \n",
    "            line= url.get('href')\n",
    "            line=line[1 : ]\n",
    "            #print('https://news.google.com'+line)\n",
    "            #header ve source ve url tekrar problemi var\n",
    "            line='https://news.google.com'+line\n",
    "            dic={'Header':url.get_text('span'),'Source':url.get('span'),'URL':line}\n",
    "        \n",
    "            listem2.append(dic)\n",
    "    counter=counter+1\n",
    "    \n",
    "listem\n",
    "sayac=0\n",
    "for l1 in listem2:\n",
    "    print(l1)\n",
    "    sayac=sayac+1\n",
    "    if(sayac==4):\n",
    "        break\n",
    "    "
   ]
  },
  {
   "cell_type": "code",
   "execution_count": 71,
   "metadata": {},
   "outputs": [
    {
     "name": "stdout",
     "output_type": "stream",
     "text": [
      "[{'Titel': 'Başlıklar', 'Header': \"ABD'den Rusya'ya gerilimi tırmandırma suçlaması\", 'Source': None, 'URL': 'https://news.google.com/articles/CAIiEGC-Mm8_oN0sVCVXjyxX2J0qFwgEKg8IACoHCAowraTwAzC2tx0wkY5V'}, {'Titel': 'Türkiye', 'Header': \"ABD'den Rusya'ya gerilimi tırmandırma suçlaması\", 'Source': None, 'URL': 'https://news.google.com/articles/CAIiEGC-Mm8_oN0sVCVXjyxX2J0qFwgEKg8IACoHCAowraTwAzC2tx0wkY5V'}, {'Titel': 'Dünya', 'Header': \"ABD'den Rusya'ya gerilimi tırmandırma suçlaması\", 'Source': None, 'URL': 'https://news.google.com/articles/CAIiEGC-Mm8_oN0sVCVXjyxX2J0qFwgEKg8IACoHCAowraTwAzC2tx0wkY5V'}, {'Titel': 'İş', 'Header': \"ABD'den Rusya'ya gerilimi tırmandırma suçlaması\", 'Source': None, 'URL': 'https://news.google.com/articles/CAIiEGC-Mm8_oN0sVCVXjyxX2J0qFwgEKg8IACoHCAowraTwAzC2tx0wkY5V'}, {'Titel': 'Bilim ve Teknoloji', 'Header': \"ABD'den Rusya'ya gerilimi tırmandırma suçlaması\", 'Source': None, 'URL': 'https://news.google.com/articles/CAIiEGC-Mm8_oN0sVCVXjyxX2J0qFwgEKg8IACoHCAowraTwAzC2tx0wkY5V'}, {'Titel': 'Eğlence', 'Header': \"ABD'den Rusya'ya gerilimi tırmandırma suçlaması\", 'Source': None, 'URL': 'https://news.google.com/articles/CAIiEGC-Mm8_oN0sVCVXjyxX2J0qFwgEKg8IACoHCAowraTwAzC2tx0wkY5V'}, {'Titel': 'Spor', 'Header': \"ABD'den Rusya'ya gerilimi tırmandırma suçlaması\", 'Source': None, 'URL': 'https://news.google.com/articles/CAIiEGC-Mm8_oN0sVCVXjyxX2J0qFwgEKg8IACoHCAowraTwAzC2tx0wkY5V'}, {'Titel': 'Sağlık', 'Header': \"ABD'den Rusya'ya gerilimi tırmandırma suçlaması\", 'Source': None, 'URL': 'https://news.google.com/articles/CAIiEGC-Mm8_oN0sVCVXjyxX2J0qFwgEKg8IACoHCAowraTwAzC2tx0wkY5V'}]\n"
     ]
    }
   ],
   "source": [
    "titels=soup.find( class_='lBwEZb BL5WZb xP6mwf').find_all(\"h2\")\n",
    "sh_links=soup.find( class_='mEaVNd').find_all(\"a\")\n",
    "dic={}\n",
    "dic2={}\n",
    "listem2=[]\n",
    "listem=[]\n",
    "counter=-1\n",
    "for titel in titels:\n",
    "    for url in sh_links:\n",
    "        line= url.get('href')\n",
    "        line=line[1 : ]\n",
    "        #print('https://news.google.com'+line)\n",
    "        #header ve source ve url tekrar problemi var\n",
    "        line='https://news.google.com'+line\n",
    "        dic={'Titel':titel.get_text(),'Header':url.get_text('span'),'Source':url.get('span'),'URL':line}\n",
    "        \n",
    "        listem2.append(dic)\n",
    "        \n",
    "        \n",
    "\n",
    "print(listem2)\n",
    "    \n",
    "    \n",
    "    "
   ]
  },
  {
   "cell_type": "code",
   "execution_count": null,
   "metadata": {},
   "outputs": [],
   "source": []
  }
 ],
 "metadata": {
  "kernelspec": {
   "display_name": "Python 3",
   "language": "python",
   "name": "python3"
  },
  "language_info": {
   "codemirror_mode": {
    "name": "ipython",
    "version": 3
   },
   "file_extension": ".py",
   "mimetype": "text/x-python",
   "name": "python",
   "nbconvert_exporter": "python",
   "pygments_lexer": "ipython3",
   "version": "3.6.3"
  }
 },
 "nbformat": 4,
 "nbformat_minor": 2
}
