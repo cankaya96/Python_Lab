{
 "cells": [
  {
   "cell_type": "code",
   "execution_count": 1,
   "metadata": {},
   "outputs": [],
   "source": [
    "import requests\n",
    "from bs4 import BeautifulSoup as bs"
   ]
  },
  {
   "cell_type": "code",
   "execution_count": 2,
   "metadata": {},
   "outputs": [],
   "source": [
    "url ='https://news.google.com/topics/CAAqIggKIhxDQkFTRHdvSkwyMHZNREY2Ym1OZkVnSjBjaWdBUAE?hl=tr&gl=TR&ceid=TR%3Atr'"
   ]
  },
  {
   "cell_type": "code",
   "execution_count": 3,
   "metadata": {},
   "outputs": [],
   "source": [
    "r=requests.get(url)\n"
   ]
  },
  {
   "cell_type": "code",
   "execution_count": 4,
   "metadata": {},
   "outputs": [],
   "source": [
    "soup = bs(r.content,'html.parser' )\n",
    "#print(soup.prettify())"
   ]
  },
  {
   "cell_type": "code",
   "execution_count": 5,
   "metadata": {},
   "outputs": [
    {
     "data": {
      "text/plain": [
       "['dün']"
      ]
     },
     "execution_count": 5,
     "metadata": {},
     "output_type": "execute_result"
    }
   ],
   "source": [
    "soup.title.string\n",
    "soup.find(class_='WW6dff').children\n",
    "soup.find(class_='WW6dff').contents\n"
   ]
  },
  {
   "cell_type": "code",
   "execution_count": 25,
   "metadata": {},
   "outputs": [
    {
     "name": "stdout",
     "output_type": "stream",
     "text": [
      "{}\n",
      "{'Header': 'Hasan Öztürk: Cumhur İttifakı… Jestler, beklentiler, beklenmedikler', 'Source': None, 'URL': 'https://news.google.com/articles/CBMiaWh0dHBzOi8vd3d3LnllbmlzYWZhay5jb20veWF6YXJsYXIvaGFzYW5venR1cmsvY3VtaHVyLWl0dGlmYWtpLWplc3RsZXItYmVrbGVudGlsZXItYmVrbGVubWVkaWtsZXItMjA0ODI1MNIBAA'}\n",
      "{'Header': 'Hasan Öztürk: Cumhur İttifakı… Jestler, beklentiler, beklenmedikler', 'Source': None, 'URL': 'https://news.google.com/articles/CBMiaWh0dHBzOi8vd3d3LnllbmlzYWZhay5jb20veWF6YXJsYXIvaGFzYW5venR1cmsvY3VtaHVyLWl0dGlmYWtpLWplc3RsZXItYmVrbGVudGlsZXItYmVrbGVubWVkaWtsZXItMjA0ODI1MNIBAA'}\n",
      "{'Header': 'Bugün 25 Kasım Kadına Yönelik Şiddetle Mücadele Günü: #363nedir?', 'Source': None, 'URL': 'https://news.google.com/articles/CBMiXWh0dHBzOi8vb25lZGlvLmNvbS9oYWJlci9idWd1bi0yNS1rYXNpbS1rYWRpbmEteW9uZWxpay1zaWRkZXRsZS1tdWNhZGVsZS1ndW51LTM2M25lZGlyLTg1MDQ0ONIBpAFodHRwczovL29uZWRpby1jb20uY2RuLmFtcHByb2plY3Qub3JnL3Yvcy9vbmVkaW8uY29tL2FtcC1oYWJlci9idWd1bi0yNS1rYXNpbS1rYWRpbmEteW9uZWxpay1zaWRkZXRsZS1tdWNhZGVsZS1ndW51LTM2M25lZGlyLTg1MDQ0OD9hbXBfanNfdj0wLjEjd2Vidmlldz0xJmNhcD1zd2lwZQ'}\n"
     ]
    }
   ],
   "source": [
    "sh_links=soup.find( class_='ajwQHc BL5WZb').find_all(\"a\")\n",
    "\n",
    "dic={}\n",
    "dic2={}\n",
    "listem2=[]\n",
    "listem=[]\n",
    "counter=-1\n",
    "for url in sh_links:\n",
    "    if(counter%2==0):\n",
    "        if(url.get_text('span') is not '' ):\n",
    "            \n",
    "            line= url.get('href')\n",
    "            line=line[1 : ]\n",
    "            #print('https://news.google.com'+line)\n",
    "            #header ve source ve url tekrar problemi var\n",
    "            line='https://news.google.com'+line\n",
    "            dic={'Header':url.get_text('span'),'Source':url.get('span'),'URL':line}\n",
    "        \n",
    "    listem2.append(dic)\n",
    "    counter=counter+1\n",
    "    \n",
    "listem\n",
    "sayac=0\n",
    "for l1 in listem2:\n",
    "    print(l1)\n",
    "    sayac=sayac+1\n",
    "    if(sayac==4):\n",
    "        break\n",
    "    "
   ]
  },
  {
   "cell_type": "code",
   "execution_count": null,
   "metadata": {},
   "outputs": [],
   "source": []
  },
  {
   "cell_type": "code",
   "execution_count": null,
   "metadata": {},
   "outputs": [],
   "source": []
  }
 ],
 "metadata": {
  "kernelspec": {
   "display_name": "Python 3",
   "language": "python",
   "name": "python3"
  },
  "language_info": {
   "codemirror_mode": {
    "name": "ipython",
    "version": 3
   },
   "file_extension": ".py",
   "mimetype": "text/x-python",
   "name": "python",
   "nbconvert_exporter": "python",
   "pygments_lexer": "ipython3",
   "version": "3.6.3"
  }
 },
 "nbformat": 4,
 "nbformat_minor": 2
}
