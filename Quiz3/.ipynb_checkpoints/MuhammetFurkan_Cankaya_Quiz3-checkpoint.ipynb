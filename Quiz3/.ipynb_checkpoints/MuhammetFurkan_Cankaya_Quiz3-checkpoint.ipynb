{
 "cells": [
  {
   "cell_type": "raw",
   "metadata": {},
   "source": [
    "Question1. Write a Python script to create a dictionary where the keys are numbers between 1 and 15 (both included) and the values are square of keys.\n",
    "Sample Dictionary \n",
    "{1: 1, 2: 4, 3: 9, 4: 16, 5: 25, 6: 36, 7: 49, 8: 64, 9: 81, 10: 100, 11: 121, 12: 144, 13: 169, 14: 196, 15: 225}"
   ]
  },
  {
   "cell_type": "code",
   "execution_count": 2,
   "metadata": {},
   "outputs": [
    {
     "name": "stdout",
     "output_type": "stream",
     "text": [
      "{1: 1, 2: 4, 3: 9, 4: 16, 5: 25, 6: 36, 7: 49, 8: 64, 9: 81, 10: 100, 11: 121, 12: 144, 13: 169, 14: 196, 15: 225}\n"
     ]
    }
   ],
   "source": [
    "myDict= {}\n",
    "# write your code below:\n",
    "deger=1\n",
    "\n",
    "while deger<16:\n",
    "    myDict[deger]=deger**2\n",
    "    deger=deger+1\n",
    "\n",
    "\n",
    "\n",
    "print(myDict)"
   ]
  },
  {
   "cell_type": "raw",
   "metadata": {},
   "source": [
    "Question2. Write a Python script to combine values in python list of dictionaries. Your script should create a new dictionary."
   ]
  },
  {
   "cell_type": "code",
   "execution_count": 2,
   "metadata": {},
   "outputs": [],
   "source": [
    "D1= [{'item': 'item1', 'amount': 400}, \n",
    "     {'item': 'item2', 'amount': 300},\n",
    "     {'item': 'item1', 'amount': 750}]\n",
    "\n",
    "# newD= {'item1': 1150, 'item2': 300} \n",
    "# newD is the expected output for a given dictionary like D1"
   ]
  },
  {
   "cell_type": "code",
   "execution_count": 3,
   "metadata": {},
   "outputs": [
    {
     "name": "stdout",
     "output_type": "stream",
     "text": [
      "{'item1': 750, 'item2': 300}\n"
     ]
    }
   ],
   "source": [
    "newD= {}\n",
    "# write your code below:\n",
    "\n",
    "for d in D1:\n",
    "    for k,v in d.items():\n",
    "        if k is \"item\":\n",
    "            newD[v]=v\n",
    "            a=v\n",
    "        \n",
    "        else:\n",
    "            \n",
    "            newD[a]=v\n",
    "        \n",
    "    \n",
    "        \n",
    "\n",
    "\n",
    "\n",
    "print(newD)"
   ]
  }
 ],
 "metadata": {
  "kernelspec": {
   "display_name": "Python 3",
   "language": "python",
   "name": "python3"
  },
  "language_info": {
   "codemirror_mode": {
    "name": "ipython",
    "version": 3
   },
   "file_extension": ".py",
   "mimetype": "text/x-python",
   "name": "python",
   "nbconvert_exporter": "python",
   "pygments_lexer": "ipython3",
   "version": "3.6.3"
  }
 },
 "nbformat": 4,
 "nbformat_minor": 2
}
