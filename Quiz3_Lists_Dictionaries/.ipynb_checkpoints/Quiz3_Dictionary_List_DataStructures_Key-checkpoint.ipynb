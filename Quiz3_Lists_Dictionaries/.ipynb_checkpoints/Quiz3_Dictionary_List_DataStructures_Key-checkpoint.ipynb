{
 "cells": [
  {
   "cell_type": "raw",
   "metadata": {},
   "source": [
    "Question1. Write a Python script to create a dictionary where the keys are numbers between 1 and 15 (both included) and the values are square of keys.\n",
    "Sample Dictionary \n",
    "{1: 1, 2: 4, 3: 9, 4: 16, 5: 25, 6: 36, 7: 49, 8: 64, 9: 81, 10: 100, 11: 121, 12: 144, 13: 169, 14: 196, 15: 225}"
   ]
  },
  {
   "cell_type": "code",
   "execution_count": 3,
   "metadata": {},
   "outputs": [
    {
     "data": {
      "text/plain": [
       "{1: 1,\n",
       " 2: 4,\n",
       " 3: 9,\n",
       " 4: 16,\n",
       " 5: 25,\n",
       " 6: 36,\n",
       " 7: 49,\n",
       " 8: 64,\n",
       " 9: 81,\n",
       " 10: 100,\n",
       " 11: 121,\n",
       " 12: 144,\n",
       " 13: 169,\n",
       " 14: 196,\n",
       " 15: 225}"
      ]
     },
     "execution_count": 3,
     "metadata": {},
     "output_type": "execute_result"
    }
   ],
   "source": [
    "myDict= {}\n",
    "for k in range(1,16):\n",
    "    myDict[k]= k *k\n",
    "\n",
    "myDict"
   ]
  },
  {
   "cell_type": "raw",
   "metadata": {},
   "source": [
    "Question2. Write a Python script to combine values in python list of dictionaries. Your script should create a new dictionary."
   ]
  },
  {
   "cell_type": "code",
   "execution_count": 3,
   "metadata": {},
   "outputs": [],
   "source": [
    "D1= [{'item': 'item1', 'amount': 400}, \n",
    "     {'item': 'item2', 'amount': 300},\n",
    "     {'item': 'item1', 'amount': 750}]\n",
    "\n",
    "# newD= {'item1': 1150, 'item2': 300} \n",
    "# newD is the expected output for a given dictionary like D1"
   ]
  },
  {
   "cell_type": "code",
   "execution_count": 5,
   "metadata": {},
   "outputs": [
    {
     "name": "stdout",
     "output_type": "stream",
     "text": [
      "[['item1', 400], ['item2', 300], ['item1', 750]]\n",
      "{'item1': 1150, 'item2': 300}\n"
     ]
    }
   ],
   "source": [
    "newD= {}\n",
    "newL= []\n",
    "for listItem in D1:\n",
    "    values= list(listItem.values())\n",
    "    newL.append(values)\n",
    "print(newL)    \n",
    "\n",
    "# now convert list of list to dictionary:\n",
    "for key,value in newL:\n",
    "    newD[key]=newD.get(key,0)+value\n",
    "print(newD)"
   ]
  }
 ],
 "metadata": {
  "kernelspec": {
   "display_name": "Python 3",
   "language": "python",
   "name": "python3"
  },
  "language_info": {
   "codemirror_mode": {
    "name": "ipython",
    "version": 3
   },
   "file_extension": ".py",
   "mimetype": "text/x-python",
   "name": "python",
   "nbconvert_exporter": "python",
   "pygments_lexer": "ipython3",
   "version": "3.6.3"
  }
 },
 "nbformat": 4,
 "nbformat_minor": 2
}
