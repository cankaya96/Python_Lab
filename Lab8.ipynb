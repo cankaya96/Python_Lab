{
 "cells": [
  {
   "cell_type": "code",
   "execution_count": 1,
   "metadata": {},
   "outputs": [],
   "source": [
    "#istediği kadar positional ve keyword girip toplanan bir fonksiyon yazın\n",
    "\n",
    "def toplam( *pargs, **kargs):\n",
    "    toplam1=0\n",
    "    toplam2=0\n",
    "    for a in pargs:\n",
    "        toplam1+=a\n",
    "        \n",
    "    for k,b in kargs.items():\n",
    "        toplam2+=b\n",
    "        \n",
    "    toplam=toplam1+toplam2\n",
    "    \n",
    "    return toplam\n",
    "    \n",
    "    \n",
    "\n",
    "\n",
    "\n",
    "\n",
    "    "
   ]
  },
  {
   "cell_type": "code",
   "execution_count": 2,
   "metadata": {},
   "outputs": [
    {
     "data": {
      "text/plain": [
       "16"
      ]
     },
     "execution_count": 2,
     "metadata": {},
     "output_type": "execute_result"
    }
   ],
   "source": [
    "toplam(2,5,8,a=1)"
   ]
  },
  {
   "cell_type": "code",
   "execution_count": 7,
   "metadata": {},
   "outputs": [],
   "source": [
    "#maksimumu bul\n",
    "def maks( *pargs, **kargs):\n",
    "    temp=None\n",
    "    \n",
    "    for a in pargs:\n",
    "        if(temp is None):\n",
    "            temp=a\n",
    "            \n",
    "        elif a>temp:\n",
    "            temp=a\n",
    "            \n",
    "    for v in kargs.values():\n",
    "        if(temp is None):\n",
    "            temp=v\n",
    "            \n",
    "        elif v>temp:\n",
    "            temp=v\n",
    "            \n",
    "            \n",
    "    return temp\n",
    "            "
   ]
  },
  {
   "cell_type": "code",
   "execution_count": 8,
   "metadata": {},
   "outputs": [
    {
     "data": {
      "text/plain": [
       "8"
      ]
     },
     "execution_count": 8,
     "metadata": {},
     "output_type": "execute_result"
    }
   ],
   "source": [
    "maks(2,5,8,a=1)"
   ]
  },
  {
   "cell_type": "code",
   "execution_count": 10,
   "metadata": {},
   "outputs": [],
   "source": [
    "#tüm objelerde maksı bul\n",
    "def objeMaks(*pargs):\n",
    "     return max(pargs)"
   ]
  }
 ],
 "metadata": {
  "kernelspec": {
   "display_name": "Python 3",
   "language": "python",
   "name": "python3"
  },
  "language_info": {
   "codemirror_mode": {
    "name": "ipython",
    "version": 3
   },
   "file_extension": ".py",
   "mimetype": "text/x-python",
   "name": "python",
   "nbconvert_exporter": "python",
   "pygments_lexer": "ipython3",
   "version": "3.6.3"
  }
 },
 "nbformat": 4,
 "nbformat_minor": 2
}
