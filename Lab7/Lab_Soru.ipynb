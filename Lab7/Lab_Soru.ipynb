{
 "cells": [
  {
   "cell_type": "code",
   "execution_count": 9,
   "metadata": {},
   "outputs": [
    {
     "ename": "SyntaxError",
     "evalue": "invalid syntax (<ipython-input-9-e5f86f236e66>, line 1)",
     "output_type": "error",
     "traceback": [
      "\u001b[0;36m  File \u001b[0;32m\"<ipython-input-9-e5f86f236e66>\"\u001b[0;36m, line \u001b[0;32m1\u001b[0m\n\u001b[0;31m    bir sayının ve üst alan fonsiyonu, kullanıcı üst değeri vermez ise\u001b[0m\n\u001b[0m              ^\u001b[0m\n\u001b[0;31mSyntaxError\u001b[0m\u001b[0;31m:\u001b[0m invalid syntax\n"
     ]
    }
   ],
   "source": [
    "bir sayının ve üst alan fonsiyonu, kullanıcı üst değeri vermez ise \n",
    "default olarak 2 ile çalışacak şekilde yazınız.\n",
    "\n",
    "örn:\n",
    "    ustal(3,4)\n",
    "çıktı:\n",
    "    3^4=81\n",
    "örn:\n",
    "    ustal(5)\n",
    "çıktı:\n",
    "    5^2=25\n",
    "\n"
   ]
  },
  {
   "cell_type": "code",
   "execution_count": 9,
   "metadata": {},
   "outputs": [],
   "source": [
    "def ustal(sayi, ust=2):\n",
    "    sonuc=sayi**ust\n",
    "    print(sayi,'^',ust,'=',sonuc)\n",
    "    \n"
   ]
  },
  {
   "cell_type": "code",
   "execution_count": 30,
   "metadata": {},
   "outputs": [
    {
     "name": "stdout",
     "output_type": "stream",
     "text": [
      "3 ^ 2 = 9\n",
      "3 ^ 4 = 81\n"
     ]
    }
   ],
   "source": [
    "ustal(3)\n",
    "ustal(ust=4,sayi=3)"
   ]
  },
  {
   "cell_type": "code",
   "execution_count": null,
   "metadata": {
    "collapsed": true
   },
   "outputs": [],
   "source": [
    "kullanıcının istediği kadar sayı girebildiği ve son parametre olarak\n",
    "yapılacak işlemi girdiği \"dortislem\" fonksiyonunu kolleksiyon kütüphanelerini\n",
    "kullanmadan yazınız. (default islem \"+\")\n",
    "örn:\n",
    "    dortislem(3,4,2)\n",
    "çıktı:\n",
    "    9\n",
    "örn:\n",
    "    dortislem(5,6,islem=\"*\")\n",
    "çıktı:\n",
    "    30\n",
    "    "
   ]
  },
  {
   "cell_type": "code",
   "execution_count": 28,
   "metadata": {},
   "outputs": [],
   "source": [
    "def dortislem(dortislem='+',*sayi):\n",
    "    sonuc=0\n",
    "    sonuc1=1\n",
    "    for k in sayi:\n",
    "        if(dortislem is '+'):\n",
    "            sonuc+=k\n",
    "            \n",
    "        elif(dortislem is '*'):\n",
    "            sonuc1*=k\n",
    "        elif(dortislem is '/'):\n",
    "            sonuc1/=k\n",
    "        elif(dortislem is '-'):\n",
    "            sonuc-=k\n",
    "            \n",
    "    if (dortislem is not '+' or dortislem is not '-'):\n",
    "        sonuc=sonuc1\n",
    "    print(sonuc)\n",
    "        "
   ]
  },
  {
   "cell_type": "code",
   "execution_count": 29,
   "metadata": {},
   "outputs": [
    {
     "name": "stdout",
     "output_type": "stream",
     "text": [
      "64\n"
     ]
    }
   ],
   "source": [
    "dortislem('*',4,4,4)"
   ]
  },
  {
   "cell_type": "code",
   "execution_count": 11,
   "metadata": {},
   "outputs": [
    {
     "ename": "SyntaxError",
     "evalue": "invalid syntax (<ipython-input-11-9c9ea272514b>, line 1)",
     "output_type": "error",
     "traceback": [
      "\u001b[0;36m  File \u001b[0;32m\"<ipython-input-11-9c9ea272514b>\"\u001b[0;36m, line \u001b[0;32m1\u001b[0m\n\u001b[0;31m    kullanıcının rasgele istediği kadar dosya ismi ve kaç tane değer\u001b[0m\n\u001b[0m                       ^\u001b[0m\n\u001b[0;31mSyntaxError\u001b[0m\u001b[0;31m:\u001b[0m invalid syntax\n"
     ]
    }
   ],
   "source": [
    "kullanıcının rasgele istediği kadar dosya ismi ve kaç tane değer \n",
    "okunacağı bilgisini girebildiği ve istenilen kadar değeri dosyalardan \n",
    "okup ekrana basan \"belgelerdenyaz\" isimli fonksiyonu koleksiyon \n",
    "yapıları kullanmadan yazınız.\n",
    "\n",
    "örn: \n",
    "    belgelerdenyaz(belgex=2, belgey=6, belgez=4)\n",
    "çıktı:\n",
    "    belgex\n",
    "        1-73\n",
    "        2-26\n",
    "        3-32\n",
    "    belgey\n",
    "        1-123\n",
    "        2-321\n",
    "        3-432\n",
    "        4-42\n",
    "        5-54\n",
    "        6-65\n",
    "    belgez\n",
    "        1-35\n",
    "        2-40\n",
    "        3-50\n",
    "        4-70"
   ]
  },
  {
   "cell_type": "code",
   "execution_count": 38,
   "metadata": {},
   "outputs": [],
   "source": [
    "def belgelerdenyaz(**belge):\n",
    "    for belge, sayi in belge.items():\n",
    "        file=open(belge,\"r\")\n",
    "        i=0\n",
    "        print(belge)\n",
    "        for line in file:\n",
    "            i+=1\n",
    "            print(\"  \",i,\"-\",line)\n",
    "            if i==sayi: break\n",
    "        \n",
    "        \n",
    "                \n",
    "            "
   ]
  },
  {
   "cell_type": "code",
   "execution_count": 40,
   "metadata": {},
   "outputs": [
    {
     "name": "stdout",
     "output_type": "stream",
     "text": [
      "belgex\n",
      "   1 - 73\n",
      "\n",
      "   2 - 26\n",
      "\n",
      "belgey\n",
      "   1 - 123\n",
      "\n"
     ]
    }
   ],
   "source": [
    "belgelerdenyaz(belgex=2,belgey=1)"
   ]
  },
  {
   "cell_type": "code",
   "execution_count": 12,
   "metadata": {},
   "outputs": [
    {
     "ename": "SyntaxError",
     "evalue": "invalid syntax (<ipython-input-12-b6dbd5bc1a3b>, line 1)",
     "output_type": "error",
     "traceback": [
      "\u001b[0;36m  File \u001b[0;32m\"<ipython-input-12-b6dbd5bc1a3b>\"\u001b[0;36m, line \u001b[0;32m1\u001b[0m\n\u001b[0;31m    print fonksiyonu nasıl bir fonksiyondur?(python kütüphanesinden bakıp\u001b[0m\n\u001b[0m                   ^\u001b[0m\n\u001b[0;31mSyntaxError\u001b[0m\u001b[0;31m:\u001b[0m invalid syntax\n"
     ]
    }
   ],
   "source": [
    "print fonksiyonu nasıl bir fonksiyondur?(python kütüphanesinden bakıp\n",
    "                                        cevaplayınız)"
   ]
  },
  {
   "cell_type": "code",
   "execution_count": null,
   "metadata": {
    "collapsed": true
   },
   "outputs": [],
   "source": []
  }
 ],
 "metadata": {
  "kernelspec": {
   "display_name": "Python 3",
   "language": "python",
   "name": "python3"
  },
  "language_info": {
   "codemirror_mode": {
    "name": "ipython",
    "version": 3
   },
   "file_extension": ".py",
   "mimetype": "text/x-python",
   "name": "python",
   "nbconvert_exporter": "python",
   "pygments_lexer": "ipython3",
   "version": "3.6.3"
  }
 },
 "nbformat": 4,
 "nbformat_minor": 2
}
