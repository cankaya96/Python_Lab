{
 "cells": [
  {
   "cell_type": "code",
   "execution_count": 4,
   "metadata": {},
   "outputs": [
    {
     "name": "stdout",
     "output_type": "stream",
     "text": [
      "Hello Gleenn\n",
      "Hello 5\n"
     ]
    }
   ],
   "source": [
    "def greet():\n",
    "    return \"Hello\"\n",
    "\n",
    "print(greet(), \"Gleenn\")\n",
    "print(greet(), 5)"
   ]
  },
  {
   "cell_type": "code",
   "execution_count": 6,
   "metadata": {},
   "outputs": [],
   "source": [
    "def greet(lang):\n",
    "    if lang == \"es\":\n",
    "        return \"Hola\"\n",
    "    elif lang ==\"fr\":\n",
    "        return \"bonjour\"\n",
    "    else:\n",
    "        print(\"hello\")\n"
   ]
  },
  {
   "cell_type": "code",
   "execution_count": 10,
   "metadata": {},
   "outputs": [
    {
     "name": "stdout",
     "output_type": "stream",
     "text": [
      "Hola Gleen\n",
      "hello\n",
      "None sally\n",
      "hello\n",
      "None mustafa\n"
     ]
    }
   ],
   "source": [
    "print(greet(\"es\"), \"Gleen\")\n",
    "print(greet(\" \"), \"sally\")\n",
    "print(greet(8), \"mustafa\")"
   ]
  },
  {
   "cell_type": "code",
   "execution_count": 11,
   "metadata": {},
   "outputs": [
    {
     "name": "stdout",
     "output_type": "stream",
     "text": [
      "> hasan\n",
      "hasan\n",
      "> done\n",
      "done\n"
     ]
    }
   ],
   "source": [
    "while True:\n",
    "    line = input(\"> \")\n",
    "    if line =='done':\n",
    "        break\n",
    "    print(line)\n",
    "print('done')"
   ]
  },
  {
   "cell_type": "code",
   "execution_count": 19,
   "metadata": {},
   "outputs": [
    {
     "name": "stdout",
     "output_type": "stream",
     "text": [
      "> \n",
      "done\n"
     ]
    }
   ],
   "source": [
    "while True:\n",
    "    line = input(\"> \")\n",
    "    if line =='done' or len(line)==0:\n",
    "        break\n",
    "    elif line[0] ==\"#\":\n",
    "        continue\n",
    "    print(line)\n",
    "print('done')"
   ]
  },
  {
   "cell_type": "code",
   "execution_count": 21,
   "metadata": {},
   "outputs": [
    {
     "name": "stdout",
     "output_type": "stream",
     "text": [
      "son  5\n",
      "son  4\n",
      "son  3\n",
      "son  2\n",
      "son  1\n",
      "boom!!!\n"
     ]
    }
   ],
   "source": [
    "a=[5,4,3,2,1]\n",
    "\n",
    "for i in a:\n",
    "    print(\"son \",i)\n",
    "print(\"boom!!!\")"
   ]
  },
  {
   "cell_type": "code",
   "execution_count": 25,
   "metadata": {},
   "outputs": [
    {
     "name": "stdout",
     "output_type": "stream",
     "text": [
      "Before None\n",
      "9 9\n",
      "41 41\n",
      "41 12\n",
      "41 3\n",
      "74 74\n",
      "74 15\n",
      "After 74\n"
     ]
    }
   ],
   "source": [
    "greatesNumber=None\n",
    "print(\"Before\", greatesNumber)\n",
    "\n",
    "for number in [9,41,12,3,74,15]:\n",
    "    if greatesNumber is None:\n",
    "        greatesNumber=number\n",
    "    elif number>greatesNumber:\n",
    "        greatesNumber=number;\n",
    "    print(greatesNumber, number)\n",
    "    \n",
    "print(\"After\", greatesNumber)"
   ]
  }
 ],
 "metadata": {
  "kernelspec": {
   "display_name": "Python 3",
   "language": "python",
   "name": "python3"
  },
  "language_info": {
   "codemirror_mode": {
    "name": "ipython",
    "version": 3
   },
   "file_extension": ".py",
   "mimetype": "text/x-python",
   "name": "python",
   "nbconvert_exporter": "python",
   "pygments_lexer": "ipython3",
   "version": "3.6.3"
  }
 },
 "nbformat": 4,
 "nbformat_minor": 2
}
