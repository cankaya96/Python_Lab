{
 "cells": [
  {
   "cell_type": "code",
   "execution_count": 14,
   "metadata": {},
   "outputs": [],
   "source": [
    "fhand=open(\"mbox-short.txt\")"
   ]
  },
  {
   "cell_type": "code",
   "execution_count": 15,
   "metadata": {},
   "outputs": [
    {
     "name": "stdout",
     "output_type": "stream",
     "text": [
      "uct.ac.za\n",
      "uct.ac.z\n",
      "media.berkeley.edu\n",
      "media.berkeley.ed\n",
      "umich.edu\n",
      "umich.ed\n",
      "iupui.edu\n",
      "iupui.ed\n",
      "umich.edu\n",
      "umich.ed\n",
      "iupui.edu\n",
      "iupui.ed\n",
      "iupui.edu\n",
      "iupui.ed\n",
      "iupui.edu\n",
      "iupui.ed\n",
      "umich.edu\n",
      "umich.ed\n",
      "umich.edu\n",
      "umich.ed\n",
      "umich.edu\n",
      "umich.ed\n",
      "umich.edu\n",
      "umich.ed\n",
      "iupui.edu\n",
      "iupui.ed\n",
      "umich.edu\n",
      "umich.ed\n",
      "caret.cam.ac.uk\n",
      "caret.cam.ac.u\n",
      "gmail.com\n",
      "gmail.co\n",
      "uct.ac.za\n",
      "uct.ac.z\n",
      "uct.ac.za\n",
      "uct.ac.z\n",
      "uct.ac.za\n",
      "uct.ac.z\n",
      "uct.ac.za\n",
      "uct.ac.z\n",
      "uct.ac.za\n",
      "uct.ac.z\n",
      "media.berkeley.edu\n",
      "media.berkeley.ed\n",
      "media.berkeley.edu\n",
      "media.berkeley.ed\n",
      "media.berkeley.edu\n",
      "media.berkeley.ed\n",
      "iupui.edu\n",
      "iupui.ed\n",
      "iupui.edu\n",
      "iupui.ed\n",
      "iupui.edu\n",
      "iupui.ed\n",
      "counter :  54\n"
     ]
    }
   ],
   "source": [
    "counter=0\n",
    "\n",
    "for line in fhand:\n",
    "    \n",
    "    \n",
    "    line=line.rstrip()\n",
    "    \n",
    "    if line.startswith('From') :\n",
    "        counter=counter + 1\n",
    "        atpos=line.find('@')\n",
    "        sppos=line.find(' ',atpos)\n",
    "        \n",
    "        line=line[atpos+1 : sppos]\n",
    "        print(line)\n",
    "        \n",
    "        \n",
    "print(\"counter : \",counter)"
   ]
  },
  {
   "cell_type": "code",
   "execution_count": null,
   "metadata": {},
   "outputs": [],
   "source": []
  }
 ],
 "metadata": {
  "kernelspec": {
   "display_name": "Python 3",
   "language": "python",
   "name": "python3"
  },
  "language_info": {
   "codemirror_mode": {
    "name": "ipython",
    "version": 3
   },
   "file_extension": ".py",
   "mimetype": "text/x-python",
   "name": "python",
   "nbconvert_exporter": "python",
   "pygments_lexer": "ipython3",
   "version": "3.6.3"
  }
 },
 "nbformat": 4,
 "nbformat_minor": 2
}
