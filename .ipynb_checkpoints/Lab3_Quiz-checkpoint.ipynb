{
 "cells": [
  {
   "cell_type": "code",
   "execution_count": null,
   "metadata": {},
   "outputs": [],
   "source": []
  },
  {
   "cell_type": "code",
   "execution_count": 17,
   "metadata": {},
   "outputs": [
    {
     "name": "stdout",
     "output_type": "stream",
     "text": [
      "işlem için sayı girin yada bitirin:3\n",
      "3\n",
      "işlem için sayı girin yada bitirin:5\n",
      "5\n",
      "işlem için sayı girin yada bitirin:10\n",
      "10\n",
      "işlem için sayı girin yada bitirin:ş\n",
      "lütfen izin verilen yazımı kullanın\n",
      "işlem için sayı girin yada bitirin:20\n",
      "20\n",
      "işlem için sayı girin yada bitirin:1\n",
      "1\n",
      "işlem için sayı girin yada bitirin:done\n",
      "girilen en büyük sayı :  20\n",
      "girilen en küçük sayı : 1\n"
     ]
    }
   ],
   "source": [
    "tempM=0\n",
    "tempK=-1\n",
    "while 1:\n",
    "    \n",
    "    istek=input('işlem için sayı girin yada bitirin:' )\n",
    "    if istek==\"done\":\n",
    "        print(\"girilen en büyük sayı : \",tempM)\n",
    "        print(\"girilen en küçük sayı :\",tempK)\n",
    "        break\n",
    "    \n",
    "    \n",
    "    try:\n",
    "        istek=int(istek)\n",
    "        \n",
    "    except:\n",
    "        istek=-1\n",
    "        \n",
    "    if istek==-1:\n",
    "        print(\"lütfen izin verilen yazımı kullanın\")\n",
    "    else:\n",
    "        if tempK==-1:\n",
    "            tempK = istek\n",
    "        elif tempK>istek:\n",
    "            tempK=istek\n",
    "        print(istek)\n",
    "        if istek>tempM:\n",
    "            tempM=istek\n",
    "    \n",
    "    \n",
    "    \n",
    "   \n",
    "    \n",
    "        "
   ]
  },
  {
   "cell_type": "code",
   "execution_count": null,
   "metadata": {},
   "outputs": [],
   "source": []
  }
 ],
 "metadata": {
  "kernelspec": {
   "display_name": "Python 3",
   "language": "python",
   "name": "python3"
  },
  "language_info": {
   "codemirror_mode": {
    "name": "ipython",
    "version": 3
   },
   "file_extension": ".py",
   "mimetype": "text/x-python",
   "name": "python",
   "nbconvert_exporter": "python",
   "pygments_lexer": "ipython3",
   "version": "3.6.3"
  }
 },
 "nbformat": 4,
 "nbformat_minor": 2
}
