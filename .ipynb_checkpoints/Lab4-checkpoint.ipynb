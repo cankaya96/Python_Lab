{
 "cells": [
  {
   "cell_type": "code",
   "execution_count": 2,
   "metadata": {},
   "outputs": [
    {
     "name": "stdout",
     "output_type": "stream",
     "text": [
      "dosya adı giriniz: mbox-short.txt\n",
      "En Çok Tekrar Edilen Kelime:  Jan\n",
      "Tekrar Sayısı:  352\n"
     ]
    }
   ],
   "source": [
    "name = input('dosya adı giriniz: ')\n",
    "handle = open(name)\n",
    "\n",
    "counts = dict()\n",
    "for line in handle:\n",
    "    words = line.split()\n",
    "    for word in words:\n",
    "        counts[word] = counts.get(word,0) +1\n",
    "        \n",
    "bigCount = None\n",
    "bigWord = None\n",
    "for word,count in counts.items():\n",
    "    if bigCount is None or count > bigCount:\n",
    "        bigWord=word\n",
    "        bigCount=count\n",
    "        \n",
    "print(\"En Çok Tekrar Edilen Kelime: \",bigWord)\n",
    "print(\"Tekrar Sayısı: \", bigCount)"
   ]
  }
 ],
 "metadata": {
  "kernelspec": {
   "display_name": "Python 3",
   "language": "python",
   "name": "python3"
  },
  "language_info": {
   "codemirror_mode": {
    "name": "ipython",
    "version": 3
   },
   "file_extension": ".py",
   "mimetype": "text/x-python",
   "name": "python",
   "nbconvert_exporter": "python",
   "pygments_lexer": "ipython3",
   "version": "3.6.3"
  }
 },
 "nbformat": 4,
 "nbformat_minor": 2
}
