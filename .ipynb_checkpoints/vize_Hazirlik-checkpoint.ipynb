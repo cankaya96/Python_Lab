{
 "cells": [
  {
   "cell_type": "code",
   "execution_count": 3,
   "metadata": {},
   "outputs": [
    {
     "name": "stdout",
     "output_type": "stream",
     "text": [
      "[[0, 0, 0, 0, 0, 0], [0, 1, 2, 3, 4, 5], [0, 2, 4, 6, 8, 10], [0, 3, 6, 9, 12, 15], [0, 4, 8, 12, 16, 20]]\n"
     ]
    }
   ],
   "source": [
    "liste =[]\n",
    "for i in range(5):\n",
    "    liste2=[i*0,i*1,i*2,i*3,i*4,i*5]\n",
    "    liste.append(liste2)\n",
    "    \n",
    "print(liste)"
   ]
  },
  {
   "cell_type": "code",
   "execution_count": 10,
   "metadata": {},
   "outputs": [
    {
     "name": "stdout",
     "output_type": "stream",
     "text": [
      "count:  12\n",
      "[2002, 2009, 2016, 2023, 2037, 2044, 2051, 2058, 2072, 2079, 2086, 2093]\n"
     ]
    }
   ],
   "source": [
    "start=2000\n",
    "end=2100\n",
    "\n",
    "liste=[]\n",
    "count=0\n",
    "while(start<end):\n",
    "    if((start%7)==0 and (start%5)!=0):\n",
    "        liste.append(start)\n",
    "        count+=1\n",
    "    start+=1\n",
    "    \n",
    "print(\"count: \",count)\n",
    "print(liste)"
   ]
  },
  {
   "cell_type": "code",
   "execution_count": 11,
   "metadata": {},
   "outputs": [
    {
     "name": "stdout",
     "output_type": "stream",
     "text": [
      "[1, 2, 3, 4, 5, 6, 7, 8]\n"
     ]
    }
   ],
   "source": [
    "my_list = [[1,2,3],[4,5,6],[7,8]]\n",
    "listem=[]\n",
    "for i in my_list:\n",
    "    for j in i:\n",
    "        listem.append(j)\n",
    "        \n",
    "print(listem)"
   ]
  },
  {
   "cell_type": "code",
   "execution_count": 16,
   "metadata": {},
   "outputs": [],
   "source": [
    "def asalMı(a):\n",
    "    counter=0\n",
    "    durum=False\n",
    "    if(a<2):\n",
    "        return durum\n",
    "    for i in range(a):\n",
    "        if(i>1 and a%i==0):\n",
    "            counter+=1\n",
    "            \n",
    "    if(counter>0):\n",
    "        durum=False\n",
    "        \n",
    "    else:\n",
    "        durum=True\n",
    "        \n",
    "    return durum"
   ]
  },
  {
   "cell_type": "code",
   "execution_count": 18,
   "metadata": {},
   "outputs": [
    {
     "data": {
      "text/plain": [
       "False"
      ]
     },
     "execution_count": 18,
     "metadata": {},
     "output_type": "execute_result"
    }
   ],
   "source": [
    "sayi=0\n",
    "asalMı(sayi)"
   ]
  },
  {
   "cell_type": "code",
   "execution_count": 1,
   "metadata": {},
   "outputs": [
    {
     "name": "stdout",
     "output_type": "stream",
     "text": [
      "{'BUT': 1, 'SOFT': 1, 'WHAT': 1, 'LIGHT': 1, 'THROUGH': 1, 'YONDER': 1, 'WINDOW': 1, 'BREAKS': 1, 'IT': 1, 'IS': 3, 'THE': 3, 'EAST': 1, 'AND': 3, 'JULIET': 1, 'SUN': 2, 'ARISE': 1, 'FAIR': 1, 'KILL': 1, 'ENVIOUS': 1, 'MOON': 1, 'WHO': 1, 'ALREADY': 1, 'SICK': 1, 'PALE': 1, 'WITH': 1, 'GRIEF': 1}\n",
      "BUT 1\n",
      "SOFT 1\n",
      "WHAT 1\n",
      "LIGHT 1\n",
      "THROUGH 1\n",
      "YONDER 1\n",
      "WINDOW 1\n",
      "BREAKS 1\n",
      "IT 1\n",
      "IS 3\n",
      "THE 3\n",
      "EAST 1\n",
      "AND 3\n",
      "JULIET 1\n",
      "SUN 2\n",
      "ARISE 1\n",
      "FAIR 1\n",
      "KILL 1\n",
      "ENVIOUS 1\n",
      "MOON 1\n",
      "WHO 1\n",
      "ALREADY 1\n",
      "SICK 1\n",
      "PALE 1\n",
      "WITH 1\n",
      "GRIEF 1\n"
     ]
    }
   ],
   "source": [
    "fhand=open(\"romeo.txt\")\n",
    "dic={}\n",
    "\n",
    "for line in fhand:\n",
    "    \n",
    "    for word in line.split():\n",
    "        word=word.upper()\n",
    "        if word in dic.keys():\n",
    "            dic[word]+=1\n",
    "            \n",
    "        else:\n",
    "            dic[word]=1\n",
    "            \n",
    "print(dic)\n",
    "for key,value in dic.items():\n",
    "    print(key, value)"
   ]
  },
  {
   "cell_type": "code",
   "execution_count": 28,
   "metadata": {},
   "outputs": [
    {
     "name": "stdout",
     "output_type": "stream",
     "text": [
      "IS  :  3\n"
     ]
    }
   ],
   "source": [
    "bigWord=None\n",
    "bigCount=None\n",
    "for key,value in dic.items():\n",
    "    temp=value\n",
    "    if((bigWord is None and bigCount is None) or (bigCount<temp) ):\n",
    "        bigWord=key\n",
    "        bigCount=temp\n",
    "        \n",
    "print(bigWord,\" : \",bigCount)"
   ]
  },
  {
   "cell_type": "code",
   "execution_count": 3,
   "metadata": {},
   "outputs": [],
   "source": [
    "def find_Max(*s1 , **s2):\n",
    "    try:\n",
    "        liste=[]\n",
    "        max1=None\n",
    "        for x in s1:\n",
    "            if(max1 is None or max1<x):\n",
    "                max1=x\n",
    "        liste.append(max1)\n",
    "        \n",
    "        for y in s2.values():\n",
    "            if(max1 is None or max1<y):\n",
    "                max1=y\n",
    "        liste.append(max1)\n",
    "        return max(liste)\n",
    "    except:\n",
    "        return \"geçersiz\"\n",
    "    "
   ]
  },
  {
   "cell_type": "code",
   "execution_count": 4,
   "metadata": {},
   "outputs": [
    {
     "data": {
      "text/plain": [
       "'geçersiz'"
      ]
     },
     "execution_count": 4,
     "metadata": {},
     "output_type": "execute_result"
    }
   ],
   "source": [
    "a=100\n",
    "b=999\n",
    "find_Max(45,55,78,14,a,b,\"55\")"
   ]
  },
  {
   "cell_type": "code",
   "execution_count": 31,
   "metadata": {},
   "outputs": [],
   "source": [
    "def double_char(s):\n",
    "    yeniString=\"\"\n",
    "    \n",
    "    for i in s:\n",
    "        yeniString=yeniString +2*i\n",
    "        \n",
    "    print(yeniString)"
   ]
  },
  {
   "cell_type": "code",
   "execution_count": 32,
   "metadata": {},
   "outputs": [
    {
     "name": "stdout",
     "output_type": "stream",
     "text": [
      "aahhmmeett\n"
     ]
    }
   ],
   "source": [
    "double_char(\"ahmet\")"
   ]
  },
  {
   "cell_type": "code",
   "execution_count": 23,
   "metadata": {},
   "outputs": [],
   "source": [
    "def sum_arbitraryShapeList(liste):\n",
    "    toplam = 0\n",
    "    \n",
    "    for i in liste:\n",
    "        if isinstance(i, list):\n",
    "            toplam += sum_arbitraryShapeList(i)\n",
    "            \n",
    "        else:\n",
    "            toplam += i\n",
    "            \n",
    "    return toplam"
   ]
  },
  {
   "cell_type": "code",
   "execution_count": 25,
   "metadata": {},
   "outputs": [
    {
     "data": {
      "text/plain": [
       "136"
      ]
     },
     "execution_count": 25,
     "metadata": {},
     "output_type": "execute_result"
    }
   ],
   "source": [
    "sum_arbitraryShapeList([1, [2, [3, 4], 5], 6, [7, 8],100])"
   ]
  },
  {
   "cell_type": "code",
   "execution_count": 28,
   "metadata": {},
   "outputs": [],
   "source": [
    "def derinlik(liste):\n",
    "    toplam =0\n",
    "    \n",
    "    for i in liste:\n",
    "        derinlik1 =1\n",
    "        if isinstance(i,list):\n",
    "            derinlik1 += derinlik(i)\n",
    "            \n",
    "        if derinlik1>toplam:\n",
    "            toplam=derinlik1\n",
    "            \n",
    "    return toplam"
   ]
  },
  {
   "cell_type": "code",
   "execution_count": 29,
   "metadata": {},
   "outputs": [
    {
     "data": {
      "text/plain": [
       "3"
      ]
     },
     "execution_count": 29,
     "metadata": {},
     "output_type": "execute_result"
    }
   ],
   "source": [
    "derinlik([1, [2, [3, 4], 5], 6, [7, 8]])"
   ]
  }
 ],
 "metadata": {
  "kernelspec": {
   "display_name": "Python 3",
   "language": "python",
   "name": "python3"
  },
  "language_info": {
   "codemirror_mode": {
    "name": "ipython",
    "version": 3
   },
   "file_extension": ".py",
   "mimetype": "text/x-python",
   "name": "python",
   "nbconvert_exporter": "python",
   "pygments_lexer": "ipython3",
   "version": "3.6.3"
  }
 },
 "nbformat": 4,
 "nbformat_minor": 2
}
