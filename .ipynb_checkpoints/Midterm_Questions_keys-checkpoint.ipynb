{
 "cells": [
  {
   "cell_type": "markdown",
   "metadata": {},
   "source": [
    "<h2 style='padding: 5px'>Scores</h2><table class='table table-striped'> <thead>\n",
    "<tr> <th>Q1</th> <th>Q2</th> <th>Q3</th> <th>Q4</th> <th>Q5</th> <th>Q6</th> <th>Total</th> </tr> \n",
    "<tr> <th>...</th> <th>...</th> <th>...</th> <th>...</th> <th>...</th> <th>...</th> <th>...</th> </tr> </thead> <tbody> \n",
    "</thead> <tbody> \n",
    "\n"
   ]
  },
  {
   "cell_type": "markdown",
   "metadata": {},
   "source": [
    "### Question 1_Strings [10p]"
   ]
  },
  {
   "cell_type": "markdown",
   "metadata": {},
   "source": [
    "Implement the following function that takes a string and returns a new string with every character doubled. \n",
    "(Verilen bir stringdeki herbir karakterin çift halinden oluşan yeni bir string döndüren fonksiyonu yazınız)\n",
    "\n",
    "Example: \n",
    "double_char('The') # → 'TThhee'\n",
    "double_char('1Ab') # → '11AAbb'\n",
    "\n",
    "Evaluation criteria:\n",
    "    * returns a string each character doubled - full score\n",
    "    * returns a list each character doubled - 50% "
   ]
  },
  {
   "cell_type": "code",
   "execution_count": 1,
   "metadata": {
    "collapsed": true
   },
   "outputs": [],
   "source": [
    "# Answer 1: SOLVE HERE:\n",
    "def double_char(s):\n",
    "    yeniString=\"\"\n",
    "    for i in s:\n",
    "        yeniString = yeniString + 2*i\n",
    "    \n",
    "    return yeniString"
   ]
  },
  {
   "cell_type": "code",
   "execution_count": 2,
   "metadata": {},
   "outputs": [
    {
     "name": "stdout",
     "output_type": "stream",
     "text": [
      "HHaammzzaa\n"
     ]
    }
   ],
   "source": [
    "# Answer 1 TRY HERE:\n",
    "print(double_char(\"Hamza\"))"
   ]
  },
  {
   "cell_type": "markdown",
   "metadata": {},
   "source": [
    "### Question 2 List comprehensions [25p: 10+5+10]"
   ]
  },
  {
   "cell_type": "markdown",
   "metadata": {},
   "source": [
    "a) Generate the following 2-dimensional array \n",
    "(Aşağıdaki iki boyutlu listeyi oluşturan ifadeyi yazınız)\n",
    "\n",
    "[[0, 0, 0, 0, 0, 0],\n",
    " [0, 1, 2, 3, 4, 5],\n",
    " [0, 2, 4, 6, 8, 10],\n",
    " [0, 3, 6, 9, 12, 15],\n",
    " [0, 4, 8, 12, 16, 20]]"
   ]
  },
  {
   "cell_type": "code",
   "execution_count": 3,
   "metadata": {},
   "outputs": [
    {
     "name": "stdout",
     "output_type": "stream",
     "text": [
      "[[0, 0, 0, 0, 0, 0], [0, 1, 2, 3, 4, 5], [0, 2, 4, 6, 8, 10], [0, 3, 6, 9, 12, 15], [0, 4, 8, 12, 16, 20]]\n"
     ]
    }
   ],
   "source": [
    "# Answer 2_a) SOLVE HERE:\n",
    "\n",
    "\n",
    "liste = [[i*0, i*1, i*2, i*3, i*4, i*5] for i in range(5)]\n",
    "print(liste)"
   ]
  },
  {
   "cell_type": "markdown",
   "metadata": {
    "collapsed": true
   },
   "source": [
    "b) Generate a list of numbers which are divisible by 7 but are not a multiple of 5, between 2000 and 2100 (both included).\n",
    "(2000 ile 2100 arasında 7 ile bölünebilen ama 5'in katı olmayan sayılardan oluşan listeyi oluşturan ifadeyi yazınız)"
   ]
  },
  {
   "cell_type": "code",
   "execution_count": 5,
   "metadata": {},
   "outputs": [
    {
     "data": {
      "text/plain": [
       "[2002, 2009, 2016, 2023, 2037, 2044, 2051, 2058, 2072, 2079, 2086, 2093]"
      ]
     },
     "execution_count": 5,
     "metadata": {},
     "output_type": "execute_result"
    }
   ],
   "source": [
    "# Answer 2_b) SOLVE HERE:\n",
    "liste = [i for i in range(2000, 2101) if i % 5 != 0 and i % 7 == 0]\n",
    "liste"
   ]
  },
  {
   "cell_type": "markdown",
   "metadata": {},
   "source": [
    "c) Flatten the given nested list: (Aşağıdaki gibi en fazla 2 seviye derinlikte verilen iç içe bir listeden tek seviye bir liste oluşturan ifadeyi yazınız)"
   ]
  },
  {
   "cell_type": "code",
   "execution_count": 2,
   "metadata": {},
   "outputs": [],
   "source": [
    "my_list = [[1,2,3],[4,5,6],[7,8]] # you should create [1, 2, 3, 4, 5, 6, 7, 8]"
   ]
  },
  {
   "cell_type": "code",
   "execution_count": 3,
   "metadata": {},
   "outputs": [
    {
     "data": {
      "text/plain": [
       "[1, 2, 3, 4, 5, 6, 7, 8]"
      ]
     },
     "execution_count": 3,
     "metadata": {},
     "output_type": "execute_result"
    }
   ],
   "source": [
    "# Answer 2_c) SOLVE HERE\n",
    "\n",
    "liste = [j for i in my_list for j in i]\n",
    "liste"
   ]
  },
  {
   "cell_type": "markdown",
   "metadata": {},
   "source": [
    "### Question 3_Function for prime check [10p]"
   ]
  },
  {
   "cell_type": "markdown",
   "metadata": {},
   "source": [
    "Write a Python function that takes a number as a parameter and checks if the number is prime or not. The function should return a boolean value\n",
    "(Verilen bir sayının asal sayı olup olmadığını bulan bir fonksiyon yazınız, fonksiyon boolean ifade döndürmelidir. Asal sayı 1 ve kendisinden başka tam böleni olmayan sayıdır.)\n",
    "\n",
    "Note : A prime number (or a prime) is a natural number greater than 1 and that has no positive divisors other than 1 and itself."
   ]
  },
  {
   "cell_type": "code",
   "execution_count": 58,
   "metadata": {},
   "outputs": [],
   "source": [
    "# Answer 3 SOLVE HERE\n",
    "def test_prime(n):\n",
    "    try:\n",
    "        n=int(n)\n",
    "    except:\n",
    "        print(\"There is a mistake\")\n",
    "        return False\n",
    "    if (n < 2 ):\n",
    "        return False\n",
    "    for x in range(2,n):\n",
    "        if n%x==0:\n",
    "            return False\n",
    "    \n",
    "    return True"
   ]
  },
  {
   "cell_type": "code",
   "execution_count": 59,
   "metadata": {},
   "outputs": [
    {
     "name": "stdout",
     "output_type": "stream",
     "text": [
      "False\n"
     ]
    }
   ],
   "source": [
    "# Answer 3 TRY HERE:\n",
    "print(test_prime(6))"
   ]
  },
  {
   "cell_type": "markdown",
   "metadata": {},
   "source": [
    "### Question 4_Create dictionary from txt file [20p: 10+ 10]"
   ]
  },
  {
   "cell_type": "markdown",
   "metadata": {},
   "source": [
    "a) Open the file lyrics.txt and read it line by line. For each line, split the line into a list of words using the split() method. Then create a dictionary with keys equal to the words in the txt file and the values equal to the frequency of each word ignoring the case. \n",
    "Print each word and its frequency using this dictionary. \n",
    "(lyrics.txt dosyasını açıp satır satır okuyumuz. Her bir satırdaki kelimeleri split fonksiyonu ile ayırabilirsiniz. Bu text dosyasındaki her bir kelimenin anahtarı, bu kelimenin kaç kere geçtiğinin ise değeri olduğu bir \"dictionary\" yapısı oluşturunuz, ekrana yazdırınız)"
   ]
  },
  {
   "cell_type": "code",
   "execution_count": 5,
   "metadata": {},
   "outputs": [
    {
     "name": "stdout",
     "output_type": "stream",
     "text": [
      "{'EVERY': 1, 'NIGHT': 1, 'IN': 3, 'MY': 4, 'DREAMS': 1, 'I': 7, 'SEE': 1, 'YOU,': 3, 'FEEL': 1, 'YOU': 7, 'THAT': 3, 'IS': 1, 'HOW': 1, 'KNOW': 1, 'GO': 7, 'ON': 7, 'FAR': 1, 'ACROSS': 1, 'THE': 4, 'DISTANCE': 1, 'AND': 6, 'SPACES': 1, 'BETWEEN': 1, 'US': 2, 'HAVE': 1, 'COME': 1, 'TO': 1, 'SHOW': 1, 'NEAR,': 2, 'FAR,': 2, 'WHEREVER': 2, 'ARE': 2, 'BELIEVE': 2, 'HEART': 4, 'DOES': 2, 'ONCE': 2, 'MORE': 2, 'OPEN': 1, 'DOOR': 1, \"YOU'RE\": 1, 'HERE': 1, 'WILL': 1, 'LOVE': 2, 'CAN': 1, 'TOUCH': 1, 'ONE': 2, 'TIME': 2, 'LAST': 1, 'FOR': 1, 'A': 1, 'LIFETIME': 1, 'NEVER': 1, 'LET': 1, 'TILL': 1, \"WE'RE\": 1, 'GONE': 1, 'WAS': 1, 'WHEN': 1, 'LOVED': 1, 'TRUE': 1, 'HOLD': 1, 'LIFE': 1, \"WE'LL\": 1, 'ALWAYS': 1}\n"
     ]
    }
   ],
   "source": [
    "# Answer 4_a) SOLVE HERE\n",
    "f = open(\"lyrics.txt\")\n",
    "dic = {}\n",
    "for line in f :\n",
    "   \n",
    "    for word in line.split() :\n",
    "        word = word.upper()\n",
    "        if word in dic.keys() :\n",
    "            dic[word] +=1\n",
    "        else :\n",
    "            dic[word] = 1\n",
    "            \n",
    "print(dic)\n"
   ]
  },
  {
   "cell_type": "markdown",
   "metadata": {},
   "source": [
    "b) What is the most frequently used word? (En çok kullanılan kelime hangisidir?)"
   ]
  },
  {
   "cell_type": "code",
   "execution_count": 26,
   "metadata": {},
   "outputs": [
    {
     "name": "stdout",
     "output_type": "stream",
     "text": [
      "I\n"
     ]
    }
   ],
   "source": [
    "# Answer 4_b) SOLVE HERE\n",
    "most = 0 \n",
    "\n",
    "for x , y in dic.items() :\n",
    "    if y > most:\n",
    "        most = y \n",
    "        word = x\n",
    "\n",
    "print(word)\n",
    "\n"
   ]
  },
  {
   "cell_type": "markdown",
   "metadata": {},
   "source": [
    "### Question 5 [15p]"
   ]
  },
  {
   "cell_type": "markdown",
   "metadata": {},
   "source": [
    "Implement the function \"find_Max\" that accepts an arbitrary number of numbers in the form of positional or keyword arguments and returns the maximum of that numbers.  (Aşağıdaki fonksiyonu yazınız. Bu fonksiyon rastgele sayıda ve rastgele şekilde, konum ile ya da anahtar ile, gönderilen sayıların en büyüğünü döndürmektedir)\n",
    "\n",
    "find_Max(5,15) # --> 15\n",
    "find_Max(40, a=10, b=2) # --> 40\n",
    "find_Max(40, a=10, b=2, s=\"55\" ) # --> Incompatible types\n",
    "find_Max() # --> None\n",
    "\n",
    "Evaluation criteria:\n",
    "* If the function works correctly for all types of inputs: full score\n",
    "* If the function works on numeric positional and keyword arguments: 80% full score\n",
    "* If the function works on numeric positional arguments: 50%\n",
    "* If the function works on numeric keyword arguments: 50%"
   ]
  },
  {
   "cell_type": "code",
   "execution_count": 24,
   "metadata": {},
   "outputs": [],
   "source": [
    "# Answer 5 SOLVE HERE:\n",
    "def find_Max(*p, **k):\n",
    "    try:\n",
    "        max1 = None\n",
    "        for x in p:\n",
    "            if(max1 == None):\n",
    "                max1 = x\n",
    "            else :\n",
    "                if(x>max1):\n",
    "                    max1 = x\n",
    "        \n",
    "        for y in k.values():\n",
    "            if(max1 == None):\n",
    "                max1 = y\n",
    "            else:\n",
    "                if(y>max1):\n",
    "                    max1 = y \n",
    "        return max1\n",
    "                \n",
    "    except:\n",
    "        return \"Geçersiz\"\n",
    "    "
   ]
  },
  {
   "cell_type": "code",
   "execution_count": 19,
   "metadata": {},
   "outputs": [],
   "source": [
    "def find_Max(*p, **k):\n",
    "    max1 = None\n",
    "    yeni= list(p)\n",
    "    for x in k.values():\n",
    "        yeni.append(x)\n",
    "    return max(yeni)        "
   ]
  },
  {
   "cell_type": "code",
   "execution_count": 25,
   "metadata": {},
   "outputs": [
    {
     "data": {
      "text/plain": [
       "50"
      ]
     },
     "execution_count": 25,
     "metadata": {},
     "output_type": "execute_result"
    }
   ],
   "source": [
    "# Answer 5 TRY HERE:\n",
    "\n",
    "find_Max(40, 50)\n"
   ]
  },
  {
   "cell_type": "markdown",
   "metadata": {},
   "source": [
    "### Question 6 [20p:10+10]"
   ]
  },
  {
   "cell_type": "markdown",
   "metadata": {},
   "source": [
    "a) Inplement a function that returns the sum of elements in a given nested list like the one shown below.\n",
    "[1, [2, [3, 4], 5], 6, [7, 8]] \n",
    "(Aşağıdaki gibi \"rastgele\" derinlikte verilen, sadece sayılardan oluşan bir listenin elemanlarının toplamını bulan fonksiyon yazınız)"
   ]
  },
  {
   "cell_type": "code",
   "execution_count": 1,
   "metadata": {},
   "outputs": [],
   "source": [
    "# Answer 6_a) SOLVE HERE:\n",
    "def sum_arbitraryShapeList(liste):\n",
    "    toplam = 0\n",
    "    for i in liste:\n",
    "        if isinstance(i, list):\n",
    "            toplam += sum_arbitraryShapeList(i)\n",
    "        else:\n",
    "            toplam += i\n",
    "\n",
    "    return toplam"
   ]
  },
  {
   "cell_type": "code",
   "execution_count": 2,
   "metadata": {},
   "outputs": [
    {
     "data": {
      "text/plain": [
       "36"
      ]
     },
     "execution_count": 2,
     "metadata": {},
     "output_type": "execute_result"
    }
   ],
   "source": [
    "# Answer 6_a TRY HERE:\n",
    "sum_arbitraryShapeList([1, [2, [3, 4], 5], 6, [7, 8]])\n"
   ]
  },
  {
   "cell_type": "markdown",
   "metadata": {},
   "source": [
    "b) Inplement a function that returns the number of levels in a given nested list like the one shown below.\n",
    "(Verilen bir listenin en fazla kaç seviye derinliği olduğunu bulan bir fonksiyon yazınız)\n",
    "[1, [2, [3, 4], 5], 6, [7, 8]] \n",
    "In this list, level 1 elements: \n",
    "1\n",
    "[2, [3, 4], 5]\n",
    "6\n",
    "[7, 8]\n",
    "Level 2 elements:\n",
    "2\n",
    "[3,4]\n",
    "5\n",
    "7\n",
    "8\n",
    "Level 3 elements:\n",
    "3\n",
    "4\n",
    "No more levels, so the list has at most 3 levels!"
   ]
  },
  {
   "cell_type": "code",
   "execution_count": 101,
   "metadata": {},
   "outputs": [],
   "source": [
    "# Answer 6_b) SOLVE HERE:\n",
    "def findDepth(liste):\n",
    "    rderinlik = 0 \n",
    "    for i in liste:\n",
    "        derinlik =1\n",
    "        if isinstance(i, list):\n",
    "            derinlik += findDepth(i)\n",
    "        if derinlik >rderinlik:\n",
    "            rderinlik=derinlik\n",
    "    return rderinlik"
   ]
  },
  {
   "cell_type": "code",
   "execution_count": 106,
   "metadata": {},
   "outputs": [
    {
     "data": {
      "text/plain": [
       "5"
      ]
     },
     "execution_count": 106,
     "metadata": {},
     "output_type": "execute_result"
    }
   ],
   "source": [
    "# Answer 6_b TRY HERE:\n",
    "\n",
    "findDepth([1, [2, [3, 4], 5],[5],[6,[8]],[3,[5,[7,[8]]]]])"
   ]
  },
  {
   "cell_type": "code",
   "execution_count": null,
   "metadata": {
    "collapsed": true
   },
   "outputs": [],
   "source": []
  }
 ],
 "metadata": {
  "kernelspec": {
   "display_name": "Python 3",
   "language": "python",
   "name": "python3"
  },
  "language_info": {
   "codemirror_mode": {
    "name": "ipython",
    "version": 3
   },
   "file_extension": ".py",
   "mimetype": "text/x-python",
   "name": "python",
   "nbconvert_exporter": "python",
   "pygments_lexer": "ipython3",
   "version": "3.6.3"
  }
 },
 "nbformat": 4,
 "nbformat_minor": 2
}
