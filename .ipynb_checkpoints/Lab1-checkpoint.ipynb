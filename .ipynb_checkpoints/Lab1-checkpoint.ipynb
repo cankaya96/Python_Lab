{
 "cells": [
  {
   "cell_type": "code",
   "execution_count": 1,
   "metadata": {},
   "outputs": [
    {
     "name": "stdout",
     "output_type": "stream",
     "text": [
      "Çalışma süresi 10\n",
      "saatlik ücret 3.7\n",
      "37.0\n"
     ]
    }
   ],
   "source": [
    "hours=input('Çalışma süresi ')\n",
    "hours1=int(hours)\n",
    "\n",
    "rate=input('saatlik ücret ')\n",
    "rate1=float(rate)\n",
    "\n",
    "pay=hours1*rate1\n",
    "print(pay)"
   ]
  },
  {
   "cell_type": "code",
   "execution_count": 8,
   "metadata": {},
   "outputs": [
    {
     "name": "stdout",
     "output_type": "stream",
     "text": [
      "Çalışma süresi 45\n",
      "saatlik ücret 10\n",
      "475.0\n"
     ]
    }
   ],
   "source": [
    "hours=input('Çalışma süresi ')\n",
    "hours1=int(hours)\n",
    "pay=0\n",
    "\n",
    "rate=input('saatlik ücret ')\n",
    "rate1=float(rate)\n",
    "rate2=1.5\n",
    "\n",
    "if hours1>40:\n",
    "    extra=hours1-40\n",
    "    pay1=extra*rate1*rate2\n",
    "    pay2=40*rate1\n",
    "    pay=pay1+pay2\n",
    "    \n",
    "else:\n",
    "    pay=hours1*rate1\n",
    "    \n",
    "print(pay)"
   ]
  },
  {
   "cell_type": "code",
   "execution_count": 4,
   "metadata": {},
   "outputs": [
    {
     "name": "stdout",
     "output_type": "stream",
     "text": [
      "Çalışma süresi 45\n",
      "saatlik ücret 10\n",
      "475.0\n"
     ]
    }
   ],
   "source": [
    "hours=input('Çalışma süresi ')\n",
    "rate=input('saatlik ücret ')\n",
    "deger=0\n",
    "deger2=0\n",
    "pay=0\n",
    "try :\n",
    "    hours1=int(hours)\n",
    "    rate=float(rate)\n",
    "except :\n",
    "    deger=-1\n",
    "\n",
    "\n",
    "\n",
    "\n",
    "\n",
    "rate2=1.5\n",
    "\n",
    "\n",
    "if hours1>40:\n",
    "    extra=hours1-40\n",
    "    pay1=extra*rate*rate2\n",
    "    pay2=40*rate\n",
    "    pay=pay1+pay2\n",
    "    \n",
    "else:\n",
    "    pay=hours1*rate\n",
    "    \n",
    "if deger==-1:\n",
    "    print('saati rakam olarak giriniz')\n",
    "    pay=0\n",
    "    \n",
    "\n",
    "print(pay)"
   ]
  },
  {
   "cell_type": "code",
   "execution_count": null,
   "metadata": {},
   "outputs": [],
   "source": []
  }
 ],
 "metadata": {
  "kernelspec": {
   "display_name": "Python 3",
   "language": "python",
   "name": "python3"
  },
  "language_info": {
   "codemirror_mode": {
    "name": "ipython",
    "version": 3
   },
   "file_extension": ".py",
   "mimetype": "text/x-python",
   "name": "python",
   "nbconvert_exporter": "python",
   "pygments_lexer": "ipython3",
   "version": "3.6.3"
  }
 },
 "nbformat": 4,
 "nbformat_minor": 2
}
